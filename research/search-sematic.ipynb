{
 "cells": [
  {
   "cell_type": "code",
   "execution_count": 4,
   "metadata": {},
   "outputs": [],
   "source": [
    "from llama_index.core import VectorStoreIndex\n",
    "from llama_index.core.response.notebook_utils import display_source_node\n",
    "from llama_index.core.node_parser import (\n",
    "    SentenceSplitter,\n",
    "    SemanticSplitterNodeParser,\n",
    "    SemanticDoubleMergingSplitterNodeParser,\n",
    "    LanguageConfig,\n",
    ")\n",
    "from llama_index.embeddings.openai import OpenAIEmbedding\n",
    "from llama_index.core import SimpleDirectoryReader\n",
    "import os\n",
    "from dotenv import load_dotenv\n",
    "\n",
    "load_dotenv()  # take environment variables from .env.\n",
    "os.environ[\"OPENAI_API_KEY\"] = os.getenv('OPENAI_API_KEY')"
   ]
  },
  {
   "cell_type": "code",
   "execution_count": 7,
   "metadata": {},
   "outputs": [],
   "source": [
    "from llama_index.core import SimpleDirectoryReader\n",
    "\n",
    "# load documents\n",
    "documents = SimpleDirectoryReader(input_files=[\"spec.txt\"]).load_data()"
   ]
  },
  {
   "cell_type": "code",
   "execution_count": null,
   "metadata": {},
   "outputs": [],
   "source": [
    "embed_model = OpenAIEmbedding()\n",
    "splitter = SemanticSplitterNodeParser(\n",
    "    buffer_size=1, breakpoint_percentile_threshold=95, embed_model=embed_model\n",
    ")\n",
    "\n",
    "# also baseline splitter\n",
    "base_splitter = SentenceSplitter(chunk_size=512)"
   ]
  },
  {
   "cell_type": "code",
   "execution_count": 10,
   "metadata": {},
   "outputs": [],
   "source": [
    "nodes = splitter.get_nodes_from_documents(documents)"
   ]
  },
  {
   "cell_type": "code",
   "execution_count": 11,
   "metadata": {},
   "outputs": [
    {
     "name": "stdout",
     "output_type": "stream",
     "text": [
      "2\n"
     ]
    }
   ],
   "source": [
    "print(len(nodes))"
   ]
  },
  {
   "cell_type": "code",
   "execution_count": 13,
   "metadata": {},
   "outputs": [
    {
     "name": "stdout",
     "output_type": "stream",
     "text": [
      "TT\tTuổi xông đất\tĐánh giá\n",
      "1\tBính Thìn - 1976\tTốt\n",
      "2\tĐinh Hợi - 1947\tTốt\n",
      "3\tNhâm Tý - 1972\tTốt\n",
      "4\tQuý Mùi - 2003\tTốt\n",
      "5\tNhâm Ngọ - 2002\tTốt\n",
      "6\tCanh Tý - 1960\tTốt\n",
      "7\tNhâm Ngọ - 1942\tTốt\n",
      "8\tQuý Mùi - 1943\tTốt\n",
      "9\tTân Mão - 1951\tTốt\n",
      "10\tKỷ Mão - 1939\tTốt\n",
      "Các tuổi xông đất Xấu với gia chủ năm Giáp Thìn 2024 là:\n",
      "\n",
      "STT\tTuổi xông đất\tĐánh giá\n",
      "1\tĐinh Sửu - 1937\tXấu\n",
      "2\tĐinh Sửu - 1997\tXấu\n",
      "3\tGiáp Thân - 1944\tXấu\n",
      "4\tGiáp Ngọ - 1954\tXấu\n",
      "5\tẤt Dậu - 1945\tXấu\n",
      "6\tGiáp Dần - 1974\tXấu\n",
      "7\tẤt Sửu - 1985\tXấu\n",
      "8\tTân Tỵ - 1941\tXấu\n",
      "9\tTân Tỵ - 2001\tXấu\n",
      "10\tCanh Tuất - 1970\tXấu\n",
      "Phân tích quan hệ xung khắc:\n",
      "\n",
      "1. Tuổi xông đất 1976 (Bính Thìn - mệnh Hỏa)\n",
      "\n",
      "Phân tích\tĐánh giá\n",
      "Ngũ hành tuổi xông nhà là Thổ tương sinh với ngũ hành Hỏa của gia chủ\tRất tốt\n",
      "Ngũ hành tuổi xông nhà là Thổ tương sinh với ngũ hành Hỏa của năm Giáp Thìn\tRất tốt\n",
      "Thiên can tuổi xông nhà là Bính không xung khắc, không tương hợp với thiên can Ất của gia chủ\tChấp nhận được\n",
      "Thiên can tuổi xông nhà là Bính tương sinh với thiên can Ất của năm Giáp Thìn\tRất tốt\n",
      "Địa chi tuổi xông nhà là Thìn không xung không hợp với địa chi Hợi của gia chủ\tChấp nhận được\n",
      "Địa chi tuổi xông nhà là Thìn đạt Tam Hợp với địa chi Thìn của năm Giáp Thìn\tRất tốt\n",
      "=> Tổng điểm: 10/12 (Tốt)\n",
      "\n",
      "2. \n"
     ]
    }
   ],
   "source": [
    "print(nodes[0].get_content())"
   ]
  },
  {
   "cell_type": "code",
   "execution_count": 14,
   "metadata": {},
   "outputs": [],
   "source": [
    "from llama_index.core import VectorStoreIndex\n",
    "from llama_index.core.response.notebook_utils import display_source_node"
   ]
  },
  {
   "cell_type": "code",
   "execution_count": 15,
   "metadata": {},
   "outputs": [],
   "source": [
    "vector_index = VectorStoreIndex(nodes)\n",
    "query_engine = vector_index.as_query_engine()\n"
   ]
  },
  {
   "cell_type": "code",
   "execution_count": 16,
   "metadata": {},
   "outputs": [],
   "source": [
    "response = query_engine.query(\n",
    "    \"đánh giá: Tuổi xông đất 1939 (Kỷ Mão - mệnh Hỏa) ?\"\n",
    ")"
   ]
  },
  {
   "cell_type": "code",
   "execution_count": 20,
   "metadata": {},
   "outputs": [
    {
     "name": "stdout",
     "output_type": "stream",
     "text": [
      "Tốt\n"
     ]
    }
   ],
   "source": [
    "print(str(response))"
   ]
  },
  {
   "cell_type": "code",
   "execution_count": 19,
   "metadata": {},
   "outputs": [
    {
     "data": {
      "text/markdown": [
       "**Node ID:** dbd592c0-f94d-4ea5-a144-51f1ee5da09b<br>**Similarity:** 0.8637910996809894<br>**Text:** Tuổi xông đất 1947 (Đinh Hợi - mệnh Hỏa)\n",
       "\n",
       "Phân tích\tĐánh giá\n",
       "Ngũ hành tuổi xông nhà là Thổ tương sinh với ngũ hành Hỏa của gia chủ\tRất tốt\n",
       "Ngũ hành tuổi xông nhà là Thổ tương sinh với ngũ hành Hỏa của năm Giáp Thìn\tRất tốt\n",
       "Thiên can tuổi xông nhà là Đinh tương sinh với thiên can Ất của gia chủ\tRất tốt\n",
       "Thiên can tuổi xông nhà là Đinh không xung khắc, không tương hợp với thiên can Ất của năm Giáp Thìn\tChấp nhận được\n",
       "Địa chi tuổi xông nhà là Hợi đạt Tam Hợp với địa chi Hợi của gia chủ\tRất tốt\n",
       "Địa chi tuổi xông nhà là Hợi không xung không hợp nhau với địa chi Thìn của năm Giáp Thìn\tChấp nhận được\n",
       "=> Tổng điểm: 10/12 (Tốt)\n",
       "\n",
       "3. Tuổi xông đất 1972 (Nhâm Tý - mệnh Hỏa)\n",
       "\n",
       "Phân tích\tĐánh giá\n",
       "Ngũ hành tuổi xông nhà là Mộc tương sinh với ngũ hành Hỏa của gia chủ\tRất tốt\n",
       "Ngũ hành tuổi xông nhà là Mộc tương sinh với ngũ hành Hỏa của năm Giáp Thìn\tRất tốt\n",
       "Thiên can tuổi xông nhà là Nhâm không xung khắc, không tương hợp với thiên can Ất của gia chủ\tChấp nhận được\n",
       "Thiên can tuổi xông nhà là Nhâm tương sinh với thiên can Ất của năm Giáp Thìn\tRất tốt\n",
       "Địa chi tuổi xông nhà là Tý không xung không hợp với địa chi Hợi của gia chủ\tChấp nhận được\n",
       "Địa chi tuổi xông nhà là Tý đạt Tam Hợp với địa chi Thìn của năm Giáp Thìn\tRất tốt\n",
       "=> Tổng điểm: 10/12 (Tốt)\n",
       "\n",
       "4. Tuổi xông đất 2003 (Quý Mùi - mệnh Hỏa)\n",
       "\n",
       "Phân tích\tĐánh giá\n",
       "Ngũ hành tuổi xông nhà là Mộc tương sinh với ngũ hành Hỏa của gia chủ\tRất tốt\n",
       "Ngũ hành tuổi xông nhà là Mộc tương sinh với ngũ hành Hỏa của năm Giáp Thìn\tRất tốt\n",
       "Thiên can tuổi xông nhà là Quý tương sinh với thiên can Ất của gia chủ\tRất tốt\n",
       "Thiên can tuổi xông nhà là Quý không xung khắc, không tương hợp với thiên can Ất của năm Giáp Thìn\tChấp nhận được\n",
       "Địa chi tuổi xông nhà là Mùi đạt Tam Hợp với địa chi Hợi của gia chủ\tRất tốt\n",
       "Địa chi tuổi xông nhà là Mùi phạm Tứ Hành Xung với địa chi Thìn của năm Giáp Thìn\tKhông tốt\n",
       "=> Tổng điểm: 9/12 (Tốt)\n",
       "\n",
       "5. Tuổi xông đất 2002 (Nhâm Ngọ - mệnh Hỏa)\n",
       "\n",
       "Phân tích\tĐánh giá\n",
       "Ngũ hành tuổi xông nhà là Mộc tương sinh với ngũ hành Hỏa của gia chủ\tR...<br>"
      ],
      "text/plain": [
       "<IPython.core.display.Markdown object>"
      ]
     },
     "metadata": {},
     "output_type": "display_data"
    },
    {
     "data": {
      "text/markdown": [
       "**Node ID:** dcbced68-9fe6-4f3c-ac79-f1d6fd9919af<br>**Similarity:** 0.8290223911374036<br>**Text:** TT\tTuổi xông đất\tĐánh giá\n",
       "1\tBính Thìn - 1976\tTốt\n",
       "2\tĐinh Hợi - 1947\tTốt\n",
       "3\tNhâm Tý - 1972\tTốt\n",
       "4\tQuý Mùi - 2003\tTốt\n",
       "5\tNhâm Ngọ - 2002\tTốt\n",
       "6\tCanh Tý - 1960\tTốt\n",
       "7\tNhâm Ngọ - 1942\tTốt\n",
       "8\tQuý Mùi - 1943\tTốt\n",
       "9\tTân Mão - 1951\tTốt\n",
       "10\tKỷ Mão - 1939\tTốt\n",
       "Các tuổi xông đất Xấu với gia chủ năm Giáp Thìn 2024 là:\n",
       "\n",
       "STT\tTuổi xông đất\tĐánh giá\n",
       "1\tĐinh Sửu - 1937\tXấu\n",
       "2\tĐinh Sửu - 1997\tXấu\n",
       "3\tGiáp Thân - 1944\tXấu\n",
       "4\tGiáp Ngọ - 1954\tXấu\n",
       "5\tẤt Dậu - 1945\tXấu\n",
       "6\tGiáp Dần - 1974\tXấu\n",
       "7\tẤt Sửu - 1985\tXấu\n",
       "8\tTân Tỵ - 1941\tXấu\n",
       "9\tTân Tỵ - 2001\tXấu\n",
       "10\tCanh Tuất - 1970\tXấu\n",
       "Phân tích quan hệ xung khắc:\n",
       "\n",
       "1. Tuổi xông đất 1976 (Bính Thìn - mệnh Hỏa)\n",
       "\n",
       "Phân tích\tĐánh giá\n",
       "Ngũ hành tuổi xông nhà là Thổ tương sinh với ngũ hành Hỏa của gia chủ\tRất tốt\n",
       "Ngũ hành tuổi xông nhà là Thổ tương sinh với ngũ hành Hỏa của năm Giáp Thìn\tRất tốt\n",
       "Thiên can tuổi xông nhà là Bính không xung khắc, không tương hợp với thiên can Ất của gia chủ\tChấp nhận được\n",
       "Thiên can tuổi xông nhà là Bính tương sinh với thiên can Ất của năm Giáp Thìn\tRất tốt\n",
       "Địa chi tuổi xông nhà là Thìn không xung không hợp với địa chi Hợi của gia chủ\tChấp nhận được\n",
       "Địa chi tuổi xông nhà là Thìn đạt Tam Hợp với địa chi Thìn của năm Giáp Thìn\tRất tốt\n",
       "=> Tổng điểm: 10/12 (Tốt)\n",
       "\n",
       "2.<br>"
      ],
      "text/plain": [
       "<IPython.core.display.Markdown object>"
      ]
     },
     "metadata": {},
     "output_type": "display_data"
    }
   ],
   "source": [
    "for n in response.source_nodes:\n",
    "    display_source_node(n, source_length=2000)"
   ]
  },
  {
   "cell_type": "code",
   "execution_count": 26,
   "metadata": {},
   "outputs": [
    {
     "name": "stdout",
     "output_type": "stream",
     "text": [
      "11\n"
     ]
    }
   ],
   "source": [
    "base_nodes = base_splitter.get_nodes_from_documents(documents)\n",
    "print(len(base_nodes))"
   ]
  },
  {
   "cell_type": "code",
   "execution_count": 27,
   "metadata": {},
   "outputs": [],
   "source": [
    "base_vector_index = VectorStoreIndex(base_nodes)\n",
    "base_query_engine = base_vector_index.as_query_engine()"
   ]
  },
  {
   "cell_type": "code",
   "execution_count": 28,
   "metadata": {},
   "outputs": [],
   "source": [
    "response_base = base_query_engine.query(\n",
    "    \"đánh giá: Tuổi xông đất 1939 (Kỷ Mão - mệnh Hỏa) ?\"\n",
    ")"
   ]
  },
  {
   "cell_type": "code",
   "execution_count": 29,
   "metadata": {},
   "outputs": [
    {
     "name": "stdout",
     "output_type": "stream",
     "text": [
      "The evaluation for the age of moving into the house in 1939 (Kỷ Mão - mệnh Hỏa) is \"Khá\" with a total score of 8/12.\n"
     ]
    }
   ],
   "source": [
    "print(str(response_base))"
   ]
  }
 ],
 "metadata": {
  "kernelspec": {
   "display_name": ".venv",
   "language": "python",
   "name": "python3"
  },
  "language_info": {
   "codemirror_mode": {
    "name": "ipython",
    "version": 3
   },
   "file_extension": ".py",
   "mimetype": "text/x-python",
   "name": "python",
   "nbconvert_exporter": "python",
   "pygments_lexer": "ipython3",
   "version": "3.10.3"
  }
 },
 "nbformat": 4,
 "nbformat_minor": 2
}
