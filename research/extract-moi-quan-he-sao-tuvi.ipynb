{
 "cells": [
  {
   "cell_type": "markdown",
   "metadata": {},
   "source": [
    "# Agent with parse context and structures retrieval, theo cấu trúc định sẵn giữa các sao phụ\n",
    "\n",
    "https://docs.llamaindex.ai/en/stable/examples/finetuning/react_agent/react_agent_finetune/\n",
    "\n",
    "https://docs.llamaindex.ai/en/stable/examples/agent/react_agent_with_query_engine/\n"
   ]
  },
  {
   "cell_type": "code",
   "execution_count": 3,
   "metadata": {},
   "outputs": [],
   "source": [
    "from llama_index.core import (\n",
    "    SimpleDirectoryReader,\n",
    "    VectorStoreIndex,\n",
    "    StorageContext,\n",
    "    load_index_from_storage,\n",
    ")\n",
    "from llama_index.llms.openai import OpenAI\n",
    "\n",
    "from llama_index.core.tools import QueryEngineTool, ToolMetadata"
   ]
  },
  {
   "cell_type": "code",
   "execution_count": 4,
   "metadata": {},
   "outputs": [],
   "source": [
    "llm = OpenAI(model=\"gpt-4o-mini\")"
   ]
  },
  {
   "cell_type": "code",
   "execution_count": 13,
   "metadata": {},
   "outputs": [],
   "source": [
    "def create_and_load_index(files = []):\n",
    "    persist_dir = \"./storage/\"\n",
    "    try:\n",
    "        storage_context = StorageContext.from_defaults(\n",
    "            persist_dir=persist_dir,\n",
    "        )\n",
    "        index = load_index_from_storage(storage_context)\n",
    "        index_loaded = True\n",
    "    except:\n",
    "        index_loaded = False\n",
    "    \n",
    "    if not index_loaded:\n",
    "        docs = SimpleDirectoryReader(\n",
    "            input_files=files,\n",
    "        ).load_data()\n",
    "        index = VectorStoreIndex.from_documents(docs)\n",
    "        index.storage_context.persist(persist_dir)\n",
    "\n",
    "    return index"
   ]
  },
  {
   "cell_type": "code",
   "execution_count": 14,
   "metadata": {},
   "outputs": [],
   "source": [
    "index_luan = create_and_load_index([\"./luan_sao_phu.md\"])"
   ]
  },
  {
   "cell_type": "code",
   "execution_count": 56,
   "metadata": {},
   "outputs": [
    {
     "name": "stdout",
     "output_type": "stream",
     "text": [
      "Hóa lộc\n",
      "Hóa Lộc thuộ\n"
     ]
    }
   ],
   "source": [
    "from pydantic import BaseModel, Field\n",
    "import os\n",
    "from enum import Enum\n",
    "\n",
    "class CungMenhEnum(str, Enum):\n",
    "    MENH = \"Mệnh\"\n",
    "    PHU = \"Phụ\"\n",
    "    PHUC = \"Phúc\"\n",
    "    DIEN_TRAI = \"Điền Trạch\"\n",
    "    QUAN_LOC = \"Quan Lộc\"\n",
    "    NO_BOC = \"Nô Bộc\"\n",
    "    THIEN_DI = \"Thiên Di\"\n",
    "    TAT_ACH = \"Tật Ách\"\n",
    "    TAI_BACH = \"Tài Bạch\"\n",
    "    TU_TUC = \"Tử Tức\"\n",
    "    PHOI_NGUYEN = \"Phối Ngẫu\"\n",
    "    HUYNH_DE = \"Huynh Đệ\"\n",
    "\n",
    "class CungMenh(BaseModel):\n",
    "    \"\"\"Data model cho cung mệnh\"\"\"\n",
    "\n",
    "    ten_cung: CungMenhEnum = Field(\n",
    "        description=\"Tên cung mệnh\",\n",
    "        nullable=True,\n",
    "    )\n",
    "\n",
    "    dien_giai: str = Field(\n",
    "        description=\"Diễn giải cung mệnh\",\n",
    "        nullable=True,\n",
    "    )\n",
    "\n",
    "# Define a Pydantic model for the content\n",
    "class SaoPhu(BaseModel):\n",
    "    \"\"\"Data model cho tử vi : Sao phụ \"\"\"\n",
    "\n",
    "    ten_sao_phu: str = Field(\n",
    "        description=\"Tên sao phụ\",\n",
    "        nullable=True,\n",
    "    )\n",
    "\n",
    "    cung_menh: CungMenhEnum = Field(\n",
    "        description=\"Sao này thuộc cung mệnh gì trong 12 cung gì? chỉ cần ghi 1 trong 12 cung\",\n",
    "        nullable=True,\n",
    "    )\n",
    "\n",
    "    dien_giai: str = Field(\n",
    "        description=\"Tác động của sao phụ này khi nằm ở cung mệnh này\",\n",
    "        nullable=True,\n",
    "    )\n",
    "\n",
    "class BocTachSaoPhu(BaseModel):\n",
    "    \"\"\"Data model cho bóc tách sao phụ từ nội dung tử vi\"\"\"\n",
    "    sao_phu: list[SaoPhu] = Field(\n",
    "        description=\"Phân tích các yếu tố liên quan tới sao phụ này\",\n",
    "    )\n",
    "\n",
    "\n",
    "# Read the content from the file\n",
    "file_path = './luan_sao_phu.md'\n",
    "content = \"\"\n",
    "if os.path.exists(file_path):\n",
    "    with open(file_path, 'r') as file:\n",
    "        content = file.read()\n",
    "else:\n",
    "    print(f\"File {file_path} does not exist.\")\n",
    "\n",
    "print(content[:20])"
   ]
  },
  {
   "cell_type": "code",
   "execution_count": 57,
   "metadata": {},
   "outputs": [],
   "source": [
    "\n",
    "# Split content into smaller chunks\n",
    "def split_content(content, max_length=1000):\n",
    "    chunks = []\n",
    "    while len(content) > max_length:\n",
    "        split_index = content[:max_length].rfind('\\n')\n",
    "        if split_index == -1:\n",
    "            split_index = max_length\n",
    "        chunks.append(content[:split_index])\n",
    "        content = content[split_index:]\n",
    "    chunks.append(content)\n",
    "    return chunks"
   ]
  },
  {
   "cell_type": "code",
   "execution_count": 59,
   "metadata": {},
   "outputs": [
    {
     "name": "stdout",
     "output_type": "stream",
     "text": [
      "=== Calling Function ===\n",
      "Calling function: SaoPhu with args: {\"ten_sao_phu\": \"H\\u00f3a L\\u1ed9c\", \"cung_menh\": \"M\\u1ec7nh\", \"dien_giai\": \"H\\u00f3a L\\u1ed9c thu\\u1ed9c Th\\u1ed5, l\\u00e0 th\\u1ea7n ph\\u00fac \\u0111\\u1ee9c, h\\u1ec9 g\\u1eb7p L\\u1ed9c T\\u1ed3n. Nh\\u1eadp mi\\u1ebfu \\u1edf D\\u1ea7n Th\\u00e2n, t\\u00e1c d\\u1ee5ng t\\u1ed1t \\u0111\\u1eb9p r\\u1ea5t l\\u1edbn, l\\u1ea1c h\\u00e3m \\u1edf cung T\\u00fd Ng\\u1ecd M\\u00e3o D\\u1eadu, t\\u00e1c d\\u1ee5ng t\\u1ed1t \\u0111\\u1eb9p kh\\u00e1 nh\\u1ecf. Nh\\u1eadp m\\u1ec7nh, l\\u00e0 ng\\u01b0\\u1eddi hi\\u1ec1n h\\u00f2a, gi\\u1ecfi x\\u00e3 giao, nh\\u00e2n duy\\u00ean t\\u1ed1t, t\\u00ednh t\\u00ecnh h\\u00e0o ph\\u00f3ng, vui v\\u1ebb h\\u00e0i h\\u01b0\\u1edbc, \\u1edf ngo\\u00e0i \\u0111\\u01b0\\u1ee3c ng\\u01b0\\u1eddi kh\\u00e1c y\\u00eau m\\u1ebfn, c\\u1ea3 \\u0111\\u1eddi h\\u01b0\\u1edfng ph\\u00fac. H\\u1ec9 nh\\u1eadp m\\u1ec7nh, th\\u00e2n, quan, t\\u00e0i, di cung, ch\\u1ee7 ph\\u00fa qu\\u00fd, th\\u1ee9 \\u0111\\u1ebfn l\\u00e0 nh\\u1eadp cung ph\\u00fac, \\u0111i\\u1ec1n.\"}\n",
      "=== Function Output ===\n",
      "ten_sao_phu='Hóa Lộc' cung_menh=<CungMenhEnum.MENH: 'Mệnh'> dien_giai='Hóa Lộc thuộc Thổ, là thần phúc đức, hỉ gặp Lộc Tồn. Nhập miếu ở Dần Thân, tác dụng tốt đẹp rất lớn, lạc hãm ở cung Tý Ngọ Mão Dậu, tác dụng tốt đẹp khá nhỏ. Nhập mệnh, là người hiền hòa, giỏi xã giao, nhân duyên tốt, tính tình hào phóng, vui vẻ hài hước, ở ngoài được người khác yêu mến, cả đời hưởng phúc. Hỉ nhập mệnh, thân, quan, tài, di cung, chủ phú quý, thứ đến là nhập cung phúc, điền.'\n",
      "=== Calling Function ===\n",
      "Calling function: SaoPhu with args: {\"ten_sao_phu\": \"H\\u00f3a L\\u1ed9c\", \"cung_menh\": \"M\\u1ec7nh\", \"dien_giai\": \"T\\u01b0 s\\u1ea3n l\\u01b0u \\u0111\\u1ed9ng, h\\u1ec9 \\u0111\\u1ed3ng cung hay h\\u1ed9i chi\\u1ebfu v\\u1edbi L\\u1ed9c T\\u1ed3n, Thi\\u00ean M\\u00e3, l\\u00e0 c\\u00e1ch \\u201cL\\u1ed9c M\\u00e3 giao tr\\u00ec\\u201d, \\u201cSong L\\u1ed9c tri\\u1ec1u vi\\u00ean\\u201d, c\\u1ef1c k\\u00ec t\\u1ed1t \\u0111\\u1eb9p, \\u0111\\u1ea1i ph\\u00fa ho\\u1eb7c \\u0111\\u1ea1i qu\\u00fd.\"}\n",
      "=== Function Output ===\n",
      "ten_sao_phu='Hóa Lộc' cung_menh=<CungMenhEnum.MENH: 'Mệnh'> dien_giai='Tư sản lưu động, hỉ đồng cung hay hội chiếu với Lộc Tồn, Thiên Mã, là cách “Lộc Mã giao trì”, “Song Lộc triều viên”, cực kì tốt đẹp, đại phú hoặc đại quý.'\n",
      "Hóa Lộc thuộc Thổ, là thần phúc đức, hỉ gặp Lộc Tồn. Nhập miếu ở Dần Thân, tác dụng tốt đẹp rất lớn, lạc hãm ở cung Tý Ngọ Mão Dậu, tác dụng tốt đẹp khá nhỏ. Nhập mệnh, là người hiền hòa, giỏi xã giao, nhân duyên tốt, tính tình hào phóng, vui vẻ hài hước, ở ngoài được người khác yêu mến, cả đời hưởng phúc. Hỉ nhập mệnh, thân, quan, tài, di cung, chủ phú quý, thứ đến là nhập cung phúc, điền.\n",
      "Tư sản lưu động, hỉ đồng cung hay hội chiếu với Lộc Tồn, Thiên Mã, là cách “Lộc Mã giao trì”, “Song Lộc triều viên”, cực kì tốt đẹp, đại phú hoặc đại quý.\n"
     ]
    }
   ],
   "source": [
    "# cách này không được, dễ quá max length\n",
    "from llama_index.core.program import FunctionCallingProgram\n",
    "\n",
    "prompt_template_str = \"\"\"\n",
    "# Luan Sao Phu\n",
    "## Tìm kiếm thông tin về sao phụ\n",
    "{content}\n",
    "## Output\n",
    "{tên sao phụ} : \n",
    "    - {cung mệnh 1 [trong 12 cung mệnh] của sao phụ} : {diễn giải tác động số mệnh}\n",
    "    - {cung mệnh 2 [trong 12 cung mệnh] của sao phụ} : {diễn giải tác động số mệnh}\n",
    "    - { thêm thông tin cung mệnh nếu có }\n",
    "\"\"\"\n",
    "\n",
    "# \n",
    "programExtract = FunctionCallingProgram.from_defaults(\n",
    "    output_cls=SaoPhu,\n",
    "    prompt_template_str=prompt_template_str,\n",
    "    verbose=True,\n",
    ")\n",
    "\n",
    "content_chunks = split_content(content)\n",
    "\n",
    "# Process each chunk and combine results\n",
    "combined_results = []\n",
    "for chunk in content_chunks[:2]:\n",
    "    response = programExtract(content=chunk)\n",
    "    combined_results.append(response.dien_giai)\n",
    "\n",
    "# Combine the results into a single response\n",
    "final_response = \"\\n\".join(combined_results)\n",
    "print(final_response)"
   ]
  },
  {
   "cell_type": "code",
   "execution_count": 45,
   "metadata": {},
   "outputs": [],
   "source": [
    "query_engine = index_luan.as_query_engine(\n",
    "    response_mode=\"tree_summarize\", output_cls=BocTachSaoPhu\n",
    ")"
   ]
  },
  {
   "cell_type": "code",
   "execution_count": 47,
   "metadata": {},
   "outputs": [
    {
     "name": "stdout",
     "output_type": "stream",
     "text": [
      "{\"sao_phu\":[{\"ten_sao_phu\":\"Mộc Dục\",\"cung_menh\":\"Tý, Ngọ, Mão, Dậu\",\"dien_giai\":\"Người tọa mệnh ở các cung Tý, Ngọ, Mão, Dậu có biên độ biến động lớn trong cuộc đời, vận thế thăng trầm dễ tạo thành cục diện hoạch phát hoạch bại. Họ có tính lạc quan, phong lưu, và dễ bộc lộ cảm xúc hỉ, nộ, ai, lạc trên sắc mặt. Cuộc đời của họ đầy nhiều lúc \"}]}\n"
     ]
    }
   ],
   "source": [
    "response = query_engine.query(\"các sao phụ thuộc về các cung mệnh gì thì tác động thế nào ?\")\n",
    "print(str(response))"
   ]
  },
  {
   "cell_type": "code",
   "execution_count": 31,
   "metadata": {},
   "outputs": [],
   "source": [
    "from llama_index.core.llms import ChatMessage\n",
    "\n",
    "sllm = llm.as_structured_llm(output_cls=BocTachSaoPhu)\n",
    "input_msg = ChatMessage.from_str(\"sao Thái Dương thuộc về các cung mệnh gì thì tác động thế nào ?\")\n",
    "\n",
    "output = sllm.chat([input_msg])\n",
    "output_obj = output.raw"
   ]
  },
  {
   "cell_type": "code",
   "execution_count": 32,
   "metadata": {},
   "outputs": [
    {
     "name": "stdout",
     "output_type": "stream",
     "text": [
      "assistant: {\"ten_sao_phu\":\"Thái Dương\",\"cung_menh\":\"Bạch Dương, Sư Tử, Nhân Mã\",\"dien_giai\":\"Sao Thái Dương biểu trưng cho ánh sáng, sự sống và năng lượng. Khi thuộc về các cung mệnh như Bạch Dương, Sư Tử, Nhân Mã, nó mang lại sự tự tin, sức mạnh, và khả năng lãnh đạo. Người có sao Thái Dương thường có tính cách mạnh mẽ, sáng tạo và có khả năng thu hút sự chú ý.\"}\n"
     ]
    }
   ],
   "source": [
    "print(str(output))"
   ]
  },
  {
   "cell_type": "code",
   "execution_count": null,
   "metadata": {},
   "outputs": [],
   "source": []
  }
 ],
 "metadata": {
  "kernelspec": {
   "display_name": ".venv",
   "language": "python",
   "name": "python3"
  },
  "language_info": {
   "codemirror_mode": {
    "name": "ipython",
    "version": 3
   },
   "file_extension": ".py",
   "mimetype": "text/x-python",
   "name": "python",
   "nbconvert_exporter": "python",
   "pygments_lexer": "ipython3",
   "version": "3.10.3"
  }
 },
 "nbformat": 4,
 "nbformat_minor": 2
}
