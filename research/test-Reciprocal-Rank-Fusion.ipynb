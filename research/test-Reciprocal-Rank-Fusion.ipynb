{
 "cells": [
  {
   "cell_type": "markdown",
   "metadata": {},
   "source": [
    "# Reciprocal-Rank-Fusion outperforms Condorcet and individual Rank Learning Methods\n",
    "\n",
    "https://plg.uwaterloo.ca/~gvcormac/cormacksigir09-rrf.pdf\n"
   ]
  },
  {
   "cell_type": "code",
   "execution_count": 2,
   "metadata": {},
   "outputs": [
    {
     "name": "stdout",
     "output_type": "stream",
     "text": [
      "Requirement already satisfied: llama-index-llms-openai in /Users/ngocp/Documents/projects/tu-vi-bot/.venv/lib/python3.10/site-packages (0.2.9)\n",
      "Requirement already satisfied: llama-index-core<0.12.0,>=0.11.7 in /Users/ngocp/Documents/projects/tu-vi-bot/.venv/lib/python3.10/site-packages (from llama-index-llms-openai) (0.11.14)\n",
      "Requirement already satisfied: openai<2.0.0,>=1.40.0 in /Users/ngocp/Documents/projects/tu-vi-bot/.venv/lib/python3.10/site-packages (from llama-index-llms-openai) (1.50.2)\n",
      "Requirement already satisfied: PyYAML>=6.0.1 in /Users/ngocp/Documents/projects/tu-vi-bot/.venv/lib/python3.10/site-packages (from llama-index-core<0.12.0,>=0.11.7->llama-index-llms-openai) (6.0.2)\n",
      "Requirement already satisfied: SQLAlchemy>=1.4.49 in /Users/ngocp/Documents/projects/tu-vi-bot/.venv/lib/python3.10/site-packages (from SQLAlchemy[asyncio]>=1.4.49->llama-index-core<0.12.0,>=0.11.7->llama-index-llms-openai) (2.0.35)\n",
      "Requirement already satisfied: aiohttp<4.0.0,>=3.8.6 in /Users/ngocp/Documents/projects/tu-vi-bot/.venv/lib/python3.10/site-packages (from llama-index-core<0.12.0,>=0.11.7->llama-index-llms-openai) (3.10.7)\n",
      "Requirement already satisfied: dataclasses-json in /Users/ngocp/Documents/projects/tu-vi-bot/.venv/lib/python3.10/site-packages (from llama-index-core<0.12.0,>=0.11.7->llama-index-llms-openai) (0.6.7)\n",
      "Requirement already satisfied: deprecated>=1.2.9.3 in /Users/ngocp/Documents/projects/tu-vi-bot/.venv/lib/python3.10/site-packages (from llama-index-core<0.12.0,>=0.11.7->llama-index-llms-openai) (1.2.14)\n",
      "Requirement already satisfied: dirtyjson<2.0.0,>=1.0.8 in /Users/ngocp/Documents/projects/tu-vi-bot/.venv/lib/python3.10/site-packages (from llama-index-core<0.12.0,>=0.11.7->llama-index-llms-openai) (1.0.8)\n",
      "Requirement already satisfied: fsspec>=2023.5.0 in /Users/ngocp/Documents/projects/tu-vi-bot/.venv/lib/python3.10/site-packages (from llama-index-core<0.12.0,>=0.11.7->llama-index-llms-openai) (2024.9.0)\n",
      "Requirement already satisfied: httpx in /Users/ngocp/Documents/projects/tu-vi-bot/.venv/lib/python3.10/site-packages (from llama-index-core<0.12.0,>=0.11.7->llama-index-llms-openai) (0.27.2)\n",
      "Requirement already satisfied: nest-asyncio<2.0.0,>=1.5.8 in /Users/ngocp/Documents/projects/tu-vi-bot/.venv/lib/python3.10/site-packages (from llama-index-core<0.12.0,>=0.11.7->llama-index-llms-openai) (1.6.0)\n",
      "Requirement already satisfied: networkx>=3.0 in /Users/ngocp/Documents/projects/tu-vi-bot/.venv/lib/python3.10/site-packages (from llama-index-core<0.12.0,>=0.11.7->llama-index-llms-openai) (3.3)\n",
      "Requirement already satisfied: nltk>3.8.1 in /Users/ngocp/Documents/projects/tu-vi-bot/.venv/lib/python3.10/site-packages (from llama-index-core<0.12.0,>=0.11.7->llama-index-llms-openai) (3.9.1)\n",
      "Requirement already satisfied: numpy<2.0.0 in /Users/ngocp/Documents/projects/tu-vi-bot/.venv/lib/python3.10/site-packages (from llama-index-core<0.12.0,>=0.11.7->llama-index-llms-openai) (1.26.4)\n",
      "Requirement already satisfied: pillow>=9.0.0 in /Users/ngocp/Documents/projects/tu-vi-bot/.venv/lib/python3.10/site-packages (from llama-index-core<0.12.0,>=0.11.7->llama-index-llms-openai) (10.4.0)\n",
      "Requirement already satisfied: pydantic<3.0.0,>=2.7.0 in /Users/ngocp/Documents/projects/tu-vi-bot/.venv/lib/python3.10/site-packages (from llama-index-core<0.12.0,>=0.11.7->llama-index-llms-openai) (2.9.2)\n",
      "Requirement already satisfied: requests>=2.31.0 in /Users/ngocp/Documents/projects/tu-vi-bot/.venv/lib/python3.10/site-packages (from llama-index-core<0.12.0,>=0.11.7->llama-index-llms-openai) (2.32.3)\n",
      "Requirement already satisfied: tenacity!=8.4.0,<9.0.0,>=8.2.0 in /Users/ngocp/Documents/projects/tu-vi-bot/.venv/lib/python3.10/site-packages (from llama-index-core<0.12.0,>=0.11.7->llama-index-llms-openai) (8.5.0)\n",
      "Requirement already satisfied: tiktoken>=0.3.3 in /Users/ngocp/Documents/projects/tu-vi-bot/.venv/lib/python3.10/site-packages (from llama-index-core<0.12.0,>=0.11.7->llama-index-llms-openai) (0.7.0)\n",
      "Requirement already satisfied: tqdm<5.0.0,>=4.66.1 in /Users/ngocp/Documents/projects/tu-vi-bot/.venv/lib/python3.10/site-packages (from llama-index-core<0.12.0,>=0.11.7->llama-index-llms-openai) (4.66.5)\n",
      "Requirement already satisfied: typing-extensions>=4.5.0 in /Users/ngocp/Documents/projects/tu-vi-bot/.venv/lib/python3.10/site-packages (from llama-index-core<0.12.0,>=0.11.7->llama-index-llms-openai) (4.12.2)\n",
      "Requirement already satisfied: typing-inspect>=0.8.0 in /Users/ngocp/Documents/projects/tu-vi-bot/.venv/lib/python3.10/site-packages (from llama-index-core<0.12.0,>=0.11.7->llama-index-llms-openai) (0.9.0)\n",
      "Requirement already satisfied: wrapt in /Users/ngocp/Documents/projects/tu-vi-bot/.venv/lib/python3.10/site-packages (from llama-index-core<0.12.0,>=0.11.7->llama-index-llms-openai) (1.16.0)\n",
      "Requirement already satisfied: anyio<5,>=3.5.0 in /Users/ngocp/Documents/projects/tu-vi-bot/.venv/lib/python3.10/site-packages (from openai<2.0.0,>=1.40.0->llama-index-llms-openai) (4.6.0)\n",
      "Requirement already satisfied: distro<2,>=1.7.0 in /Users/ngocp/Documents/projects/tu-vi-bot/.venv/lib/python3.10/site-packages (from openai<2.0.0,>=1.40.0->llama-index-llms-openai) (1.9.0)\n",
      "Requirement already satisfied: jiter<1,>=0.4.0 in /Users/ngocp/Documents/projects/tu-vi-bot/.venv/lib/python3.10/site-packages (from openai<2.0.0,>=1.40.0->llama-index-llms-openai) (0.5.0)\n",
      "Requirement already satisfied: sniffio in /Users/ngocp/Documents/projects/tu-vi-bot/.venv/lib/python3.10/site-packages (from openai<2.0.0,>=1.40.0->llama-index-llms-openai) (1.3.1)\n",
      "Requirement already satisfied: aiohappyeyeballs>=2.3.0 in /Users/ngocp/Documents/projects/tu-vi-bot/.venv/lib/python3.10/site-packages (from aiohttp<4.0.0,>=3.8.6->llama-index-core<0.12.0,>=0.11.7->llama-index-llms-openai) (2.4.2)\n",
      "Requirement already satisfied: aiosignal>=1.1.2 in /Users/ngocp/Documents/projects/tu-vi-bot/.venv/lib/python3.10/site-packages (from aiohttp<4.0.0,>=3.8.6->llama-index-core<0.12.0,>=0.11.7->llama-index-llms-openai) (1.3.1)\n",
      "Requirement already satisfied: attrs>=17.3.0 in /Users/ngocp/Documents/projects/tu-vi-bot/.venv/lib/python3.10/site-packages (from aiohttp<4.0.0,>=3.8.6->llama-index-core<0.12.0,>=0.11.7->llama-index-llms-openai) (23.2.0)\n",
      "Requirement already satisfied: frozenlist>=1.1.1 in /Users/ngocp/Documents/projects/tu-vi-bot/.venv/lib/python3.10/site-packages (from aiohttp<4.0.0,>=3.8.6->llama-index-core<0.12.0,>=0.11.7->llama-index-llms-openai) (1.4.1)\n",
      "Requirement already satisfied: multidict<7.0,>=4.5 in /Users/ngocp/Documents/projects/tu-vi-bot/.venv/lib/python3.10/site-packages (from aiohttp<4.0.0,>=3.8.6->llama-index-core<0.12.0,>=0.11.7->llama-index-llms-openai) (6.1.0)\n",
      "Requirement already satisfied: yarl<2.0,>=1.12.0 in /Users/ngocp/Documents/projects/tu-vi-bot/.venv/lib/python3.10/site-packages (from aiohttp<4.0.0,>=3.8.6->llama-index-core<0.12.0,>=0.11.7->llama-index-llms-openai) (1.13.1)\n",
      "Requirement already satisfied: async-timeout<5.0,>=4.0 in /Users/ngocp/Documents/projects/tu-vi-bot/.venv/lib/python3.10/site-packages (from aiohttp<4.0.0,>=3.8.6->llama-index-core<0.12.0,>=0.11.7->llama-index-llms-openai) (4.0.3)\n",
      "Requirement already satisfied: idna>=2.8 in /Users/ngocp/Documents/projects/tu-vi-bot/.venv/lib/python3.10/site-packages (from anyio<5,>=3.5.0->openai<2.0.0,>=1.40.0->llama-index-llms-openai) (3.10)\n",
      "Requirement already satisfied: exceptiongroup>=1.0.2 in /Users/ngocp/Documents/projects/tu-vi-bot/.venv/lib/python3.10/site-packages (from anyio<5,>=3.5.0->openai<2.0.0,>=1.40.0->llama-index-llms-openai) (1.2.2)\n",
      "Requirement already satisfied: certifi in /Users/ngocp/Documents/projects/tu-vi-bot/.venv/lib/python3.10/site-packages (from httpx->llama-index-core<0.12.0,>=0.11.7->llama-index-llms-openai) (2024.8.30)\n",
      "Requirement already satisfied: httpcore==1.* in /Users/ngocp/Documents/projects/tu-vi-bot/.venv/lib/python3.10/site-packages (from httpx->llama-index-core<0.12.0,>=0.11.7->llama-index-llms-openai) (1.0.5)\n",
      "Requirement already satisfied: h11<0.15,>=0.13 in /Users/ngocp/Documents/projects/tu-vi-bot/.venv/lib/python3.10/site-packages (from httpcore==1.*->httpx->llama-index-core<0.12.0,>=0.11.7->llama-index-llms-openai) (0.14.0)\n",
      "Requirement already satisfied: click in /Users/ngocp/Documents/projects/tu-vi-bot/.venv/lib/python3.10/site-packages (from nltk>3.8.1->llama-index-core<0.12.0,>=0.11.7->llama-index-llms-openai) (8.1.7)\n",
      "Requirement already satisfied: joblib in /Users/ngocp/Documents/projects/tu-vi-bot/.venv/lib/python3.10/site-packages (from nltk>3.8.1->llama-index-core<0.12.0,>=0.11.7->llama-index-llms-openai) (1.4.2)\n",
      "Requirement already satisfied: regex>=2021.8.3 in /Users/ngocp/Documents/projects/tu-vi-bot/.venv/lib/python3.10/site-packages (from nltk>3.8.1->llama-index-core<0.12.0,>=0.11.7->llama-index-llms-openai) (2024.9.11)\n",
      "Requirement already satisfied: annotated-types>=0.6.0 in /Users/ngocp/Documents/projects/tu-vi-bot/.venv/lib/python3.10/site-packages (from pydantic<3.0.0,>=2.7.0->llama-index-core<0.12.0,>=0.11.7->llama-index-llms-openai) (0.7.0)\n",
      "Requirement already satisfied: pydantic-core==2.23.4 in /Users/ngocp/Documents/projects/tu-vi-bot/.venv/lib/python3.10/site-packages (from pydantic<3.0.0,>=2.7.0->llama-index-core<0.12.0,>=0.11.7->llama-index-llms-openai) (2.23.4)\n",
      "Requirement already satisfied: charset-normalizer<4,>=2 in /Users/ngocp/Documents/projects/tu-vi-bot/.venv/lib/python3.10/site-packages (from requests>=2.31.0->llama-index-core<0.12.0,>=0.11.7->llama-index-llms-openai) (3.3.2)\n",
      "Requirement already satisfied: urllib3<3,>=1.21.1 in /Users/ngocp/Documents/projects/tu-vi-bot/.venv/lib/python3.10/site-packages (from requests>=2.31.0->llama-index-core<0.12.0,>=0.11.7->llama-index-llms-openai) (2.2.3)\n",
      "Requirement already satisfied: greenlet!=0.4.17 in /Users/ngocp/Documents/projects/tu-vi-bot/.venv/lib/python3.10/site-packages (from SQLAlchemy[asyncio]>=1.4.49->llama-index-core<0.12.0,>=0.11.7->llama-index-llms-openai) (3.1.1)\n",
      "Requirement already satisfied: mypy-extensions>=0.3.0 in /Users/ngocp/Documents/projects/tu-vi-bot/.venv/lib/python3.10/site-packages (from typing-inspect>=0.8.0->llama-index-core<0.12.0,>=0.11.7->llama-index-llms-openai) (1.0.0)\n",
      "Requirement already satisfied: marshmallow<4.0.0,>=3.18.0 in /Users/ngocp/Documents/projects/tu-vi-bot/.venv/lib/python3.10/site-packages (from dataclasses-json->llama-index-core<0.12.0,>=0.11.7->llama-index-llms-openai) (3.22.0)\n",
      "Requirement already satisfied: packaging>=17.0 in /Users/ngocp/Documents/projects/tu-vi-bot/.venv/lib/python3.10/site-packages (from marshmallow<4.0.0,>=3.18.0->dataclasses-json->llama-index-core<0.12.0,>=0.11.7->llama-index-llms-openai) (24.1)\n",
      "Note: you may need to restart the kernel to use updated packages.\n",
      "Collecting llama-index-retrievers-bm25\n",
      "  Downloading llama_index_retrievers_bm25-0.4.0-py3-none-any.whl.metadata (742 bytes)\n",
      "Collecting bm25s<0.3.0,>=0.2.0 (from llama-index-retrievers-bm25)\n",
      "  Downloading bm25s-0.2.1-py3-none-any.whl.metadata (18 kB)\n",
      "Requirement already satisfied: llama-index-core<0.12.0,>=0.11.0 in /Users/ngocp/Documents/projects/tu-vi-bot/.venv/lib/python3.10/site-packages (from llama-index-retrievers-bm25) (0.11.14)\n",
      "Collecting pystemmer<3.0.0.0,>=2.2.0.1 (from llama-index-retrievers-bm25)\n",
      "  Downloading PyStemmer-2.2.0.1.tar.gz (303 kB)\n",
      "  Installing build dependencies ... \u001b[?25ldone\n",
      "\u001b[?25h  Getting requirements to build wheel ... \u001b[?25ldone\n",
      "\u001b[?25h  Installing backend dependencies ... \u001b[?25ldone\n",
      "\u001b[?25h  Preparing metadata (pyproject.toml) ... \u001b[?25ldone\n",
      "\u001b[?25hRequirement already satisfied: scipy in /Users/ngocp/Documents/projects/tu-vi-bot/.venv/lib/python3.10/site-packages (from bm25s<0.3.0,>=0.2.0->llama-index-retrievers-bm25) (1.14.1)\n",
      "Requirement already satisfied: numpy in /Users/ngocp/Documents/projects/tu-vi-bot/.venv/lib/python3.10/site-packages (from bm25s<0.3.0,>=0.2.0->llama-index-retrievers-bm25) (1.26.4)\n",
      "Requirement already satisfied: PyYAML>=6.0.1 in /Users/ngocp/Documents/projects/tu-vi-bot/.venv/lib/python3.10/site-packages (from llama-index-core<0.12.0,>=0.11.0->llama-index-retrievers-bm25) (6.0.2)\n",
      "Requirement already satisfied: SQLAlchemy>=1.4.49 in /Users/ngocp/Documents/projects/tu-vi-bot/.venv/lib/python3.10/site-packages (from SQLAlchemy[asyncio]>=1.4.49->llama-index-core<0.12.0,>=0.11.0->llama-index-retrievers-bm25) (2.0.35)\n",
      "Requirement already satisfied: aiohttp<4.0.0,>=3.8.6 in /Users/ngocp/Documents/projects/tu-vi-bot/.venv/lib/python3.10/site-packages (from llama-index-core<0.12.0,>=0.11.0->llama-index-retrievers-bm25) (3.10.7)\n",
      "Requirement already satisfied: dataclasses-json in /Users/ngocp/Documents/projects/tu-vi-bot/.venv/lib/python3.10/site-packages (from llama-index-core<0.12.0,>=0.11.0->llama-index-retrievers-bm25) (0.6.7)\n",
      "Requirement already satisfied: deprecated>=1.2.9.3 in /Users/ngocp/Documents/projects/tu-vi-bot/.venv/lib/python3.10/site-packages (from llama-index-core<0.12.0,>=0.11.0->llama-index-retrievers-bm25) (1.2.14)\n",
      "Requirement already satisfied: dirtyjson<2.0.0,>=1.0.8 in /Users/ngocp/Documents/projects/tu-vi-bot/.venv/lib/python3.10/site-packages (from llama-index-core<0.12.0,>=0.11.0->llama-index-retrievers-bm25) (1.0.8)\n",
      "Requirement already satisfied: fsspec>=2023.5.0 in /Users/ngocp/Documents/projects/tu-vi-bot/.venv/lib/python3.10/site-packages (from llama-index-core<0.12.0,>=0.11.0->llama-index-retrievers-bm25) (2024.9.0)\n",
      "Requirement already satisfied: httpx in /Users/ngocp/Documents/projects/tu-vi-bot/.venv/lib/python3.10/site-packages (from llama-index-core<0.12.0,>=0.11.0->llama-index-retrievers-bm25) (0.27.2)\n",
      "Requirement already satisfied: nest-asyncio<2.0.0,>=1.5.8 in /Users/ngocp/Documents/projects/tu-vi-bot/.venv/lib/python3.10/site-packages (from llama-index-core<0.12.0,>=0.11.0->llama-index-retrievers-bm25) (1.6.0)\n",
      "Requirement already satisfied: networkx>=3.0 in /Users/ngocp/Documents/projects/tu-vi-bot/.venv/lib/python3.10/site-packages (from llama-index-core<0.12.0,>=0.11.0->llama-index-retrievers-bm25) (3.3)\n",
      "Requirement already satisfied: nltk>3.8.1 in /Users/ngocp/Documents/projects/tu-vi-bot/.venv/lib/python3.10/site-packages (from llama-index-core<0.12.0,>=0.11.0->llama-index-retrievers-bm25) (3.9.1)\n",
      "Requirement already satisfied: pillow>=9.0.0 in /Users/ngocp/Documents/projects/tu-vi-bot/.venv/lib/python3.10/site-packages (from llama-index-core<0.12.0,>=0.11.0->llama-index-retrievers-bm25) (10.4.0)\n",
      "Requirement already satisfied: pydantic<3.0.0,>=2.7.0 in /Users/ngocp/Documents/projects/tu-vi-bot/.venv/lib/python3.10/site-packages (from llama-index-core<0.12.0,>=0.11.0->llama-index-retrievers-bm25) (2.9.2)\n",
      "Requirement already satisfied: requests>=2.31.0 in /Users/ngocp/Documents/projects/tu-vi-bot/.venv/lib/python3.10/site-packages (from llama-index-core<0.12.0,>=0.11.0->llama-index-retrievers-bm25) (2.32.3)\n",
      "Requirement already satisfied: tenacity!=8.4.0,<9.0.0,>=8.2.0 in /Users/ngocp/Documents/projects/tu-vi-bot/.venv/lib/python3.10/site-packages (from llama-index-core<0.12.0,>=0.11.0->llama-index-retrievers-bm25) (8.5.0)\n",
      "Requirement already satisfied: tiktoken>=0.3.3 in /Users/ngocp/Documents/projects/tu-vi-bot/.venv/lib/python3.10/site-packages (from llama-index-core<0.12.0,>=0.11.0->llama-index-retrievers-bm25) (0.7.0)\n",
      "Requirement already satisfied: tqdm<5.0.0,>=4.66.1 in /Users/ngocp/Documents/projects/tu-vi-bot/.venv/lib/python3.10/site-packages (from llama-index-core<0.12.0,>=0.11.0->llama-index-retrievers-bm25) (4.66.5)\n",
      "Requirement already satisfied: typing-extensions>=4.5.0 in /Users/ngocp/Documents/projects/tu-vi-bot/.venv/lib/python3.10/site-packages (from llama-index-core<0.12.0,>=0.11.0->llama-index-retrievers-bm25) (4.12.2)\n",
      "Requirement already satisfied: typing-inspect>=0.8.0 in /Users/ngocp/Documents/projects/tu-vi-bot/.venv/lib/python3.10/site-packages (from llama-index-core<0.12.0,>=0.11.0->llama-index-retrievers-bm25) (0.9.0)\n",
      "Requirement already satisfied: wrapt in /Users/ngocp/Documents/projects/tu-vi-bot/.venv/lib/python3.10/site-packages (from llama-index-core<0.12.0,>=0.11.0->llama-index-retrievers-bm25) (1.16.0)\n",
      "Requirement already satisfied: aiohappyeyeballs>=2.3.0 in /Users/ngocp/Documents/projects/tu-vi-bot/.venv/lib/python3.10/site-packages (from aiohttp<4.0.0,>=3.8.6->llama-index-core<0.12.0,>=0.11.0->llama-index-retrievers-bm25) (2.4.2)\n",
      "Requirement already satisfied: aiosignal>=1.1.2 in /Users/ngocp/Documents/projects/tu-vi-bot/.venv/lib/python3.10/site-packages (from aiohttp<4.0.0,>=3.8.6->llama-index-core<0.12.0,>=0.11.0->llama-index-retrievers-bm25) (1.3.1)\n",
      "Requirement already satisfied: attrs>=17.3.0 in /Users/ngocp/Documents/projects/tu-vi-bot/.venv/lib/python3.10/site-packages (from aiohttp<4.0.0,>=3.8.6->llama-index-core<0.12.0,>=0.11.0->llama-index-retrievers-bm25) (23.2.0)\n",
      "Requirement already satisfied: frozenlist>=1.1.1 in /Users/ngocp/Documents/projects/tu-vi-bot/.venv/lib/python3.10/site-packages (from aiohttp<4.0.0,>=3.8.6->llama-index-core<0.12.0,>=0.11.0->llama-index-retrievers-bm25) (1.4.1)\n",
      "Requirement already satisfied: multidict<7.0,>=4.5 in /Users/ngocp/Documents/projects/tu-vi-bot/.venv/lib/python3.10/site-packages (from aiohttp<4.0.0,>=3.8.6->llama-index-core<0.12.0,>=0.11.0->llama-index-retrievers-bm25) (6.1.0)\n",
      "Requirement already satisfied: yarl<2.0,>=1.12.0 in /Users/ngocp/Documents/projects/tu-vi-bot/.venv/lib/python3.10/site-packages (from aiohttp<4.0.0,>=3.8.6->llama-index-core<0.12.0,>=0.11.0->llama-index-retrievers-bm25) (1.13.1)\n",
      "Requirement already satisfied: async-timeout<5.0,>=4.0 in /Users/ngocp/Documents/projects/tu-vi-bot/.venv/lib/python3.10/site-packages (from aiohttp<4.0.0,>=3.8.6->llama-index-core<0.12.0,>=0.11.0->llama-index-retrievers-bm25) (4.0.3)\n",
      "Requirement already satisfied: click in /Users/ngocp/Documents/projects/tu-vi-bot/.venv/lib/python3.10/site-packages (from nltk>3.8.1->llama-index-core<0.12.0,>=0.11.0->llama-index-retrievers-bm25) (8.1.7)\n",
      "Requirement already satisfied: joblib in /Users/ngocp/Documents/projects/tu-vi-bot/.venv/lib/python3.10/site-packages (from nltk>3.8.1->llama-index-core<0.12.0,>=0.11.0->llama-index-retrievers-bm25) (1.4.2)\n",
      "Requirement already satisfied: regex>=2021.8.3 in /Users/ngocp/Documents/projects/tu-vi-bot/.venv/lib/python3.10/site-packages (from nltk>3.8.1->llama-index-core<0.12.0,>=0.11.0->llama-index-retrievers-bm25) (2024.9.11)\n",
      "Requirement already satisfied: annotated-types>=0.6.0 in /Users/ngocp/Documents/projects/tu-vi-bot/.venv/lib/python3.10/site-packages (from pydantic<3.0.0,>=2.7.0->llama-index-core<0.12.0,>=0.11.0->llama-index-retrievers-bm25) (0.7.0)\n",
      "Requirement already satisfied: pydantic-core==2.23.4 in /Users/ngocp/Documents/projects/tu-vi-bot/.venv/lib/python3.10/site-packages (from pydantic<3.0.0,>=2.7.0->llama-index-core<0.12.0,>=0.11.0->llama-index-retrievers-bm25) (2.23.4)\n",
      "Requirement already satisfied: charset-normalizer<4,>=2 in /Users/ngocp/Documents/projects/tu-vi-bot/.venv/lib/python3.10/site-packages (from requests>=2.31.0->llama-index-core<0.12.0,>=0.11.0->llama-index-retrievers-bm25) (3.3.2)\n",
      "Requirement already satisfied: idna<4,>=2.5 in /Users/ngocp/Documents/projects/tu-vi-bot/.venv/lib/python3.10/site-packages (from requests>=2.31.0->llama-index-core<0.12.0,>=0.11.0->llama-index-retrievers-bm25) (3.10)\n",
      "Requirement already satisfied: urllib3<3,>=1.21.1 in /Users/ngocp/Documents/projects/tu-vi-bot/.venv/lib/python3.10/site-packages (from requests>=2.31.0->llama-index-core<0.12.0,>=0.11.0->llama-index-retrievers-bm25) (2.2.3)\n",
      "Requirement already satisfied: certifi>=2017.4.17 in /Users/ngocp/Documents/projects/tu-vi-bot/.venv/lib/python3.10/site-packages (from requests>=2.31.0->llama-index-core<0.12.0,>=0.11.0->llama-index-retrievers-bm25) (2024.8.30)\n",
      "Requirement already satisfied: greenlet!=0.4.17 in /Users/ngocp/Documents/projects/tu-vi-bot/.venv/lib/python3.10/site-packages (from SQLAlchemy[asyncio]>=1.4.49->llama-index-core<0.12.0,>=0.11.0->llama-index-retrievers-bm25) (3.1.1)\n",
      "Requirement already satisfied: mypy-extensions>=0.3.0 in /Users/ngocp/Documents/projects/tu-vi-bot/.venv/lib/python3.10/site-packages (from typing-inspect>=0.8.0->llama-index-core<0.12.0,>=0.11.0->llama-index-retrievers-bm25) (1.0.0)\n",
      "Requirement already satisfied: marshmallow<4.0.0,>=3.18.0 in /Users/ngocp/Documents/projects/tu-vi-bot/.venv/lib/python3.10/site-packages (from dataclasses-json->llama-index-core<0.12.0,>=0.11.0->llama-index-retrievers-bm25) (3.22.0)\n",
      "Requirement already satisfied: anyio in /Users/ngocp/Documents/projects/tu-vi-bot/.venv/lib/python3.10/site-packages (from httpx->llama-index-core<0.12.0,>=0.11.0->llama-index-retrievers-bm25) (4.6.0)\n",
      "Requirement already satisfied: httpcore==1.* in /Users/ngocp/Documents/projects/tu-vi-bot/.venv/lib/python3.10/site-packages (from httpx->llama-index-core<0.12.0,>=0.11.0->llama-index-retrievers-bm25) (1.0.5)\n",
      "Requirement already satisfied: sniffio in /Users/ngocp/Documents/projects/tu-vi-bot/.venv/lib/python3.10/site-packages (from httpx->llama-index-core<0.12.0,>=0.11.0->llama-index-retrievers-bm25) (1.3.1)\n",
      "Requirement already satisfied: h11<0.15,>=0.13 in /Users/ngocp/Documents/projects/tu-vi-bot/.venv/lib/python3.10/site-packages (from httpcore==1.*->httpx->llama-index-core<0.12.0,>=0.11.0->llama-index-retrievers-bm25) (0.14.0)\n",
      "Requirement already satisfied: packaging>=17.0 in /Users/ngocp/Documents/projects/tu-vi-bot/.venv/lib/python3.10/site-packages (from marshmallow<4.0.0,>=3.18.0->dataclasses-json->llama-index-core<0.12.0,>=0.11.0->llama-index-retrievers-bm25) (24.1)\n",
      "Requirement already satisfied: exceptiongroup>=1.0.2 in /Users/ngocp/Documents/projects/tu-vi-bot/.venv/lib/python3.10/site-packages (from anyio->httpx->llama-index-core<0.12.0,>=0.11.0->llama-index-retrievers-bm25) (1.2.2)\n",
      "Downloading llama_index_retrievers_bm25-0.4.0-py3-none-any.whl (3.6 kB)\n",
      "Downloading bm25s-0.2.1-py3-none-any.whl (50 kB)\n",
      "Building wheels for collected packages: pystemmer\n",
      "  Building wheel for pystemmer (pyproject.toml) ... \u001b[?25ldone\n",
      "\u001b[?25h  Created wheel for pystemmer: filename=PyStemmer-2.2.0.1-cp310-cp310-macosx_12_0_arm64.whl size=221731 sha256=fe86dbcec8723cd960057a4a3862cf44f80e6059acb22be382408f552d14d4ae\n",
      "  Stored in directory: /Users/ngocp/Library/Caches/pip/wheels/45/7d/2c/a7ebb8319e01acc5306fa1f8558bf24063d6cec2c02de330c9\n",
      "Successfully built pystemmer\n",
      "Installing collected packages: pystemmer, bm25s, llama-index-retrievers-bm25\n",
      "Successfully installed bm25s-0.2.1 llama-index-retrievers-bm25-0.4.0 pystemmer-2.2.0.1\n",
      "Note: you may need to restart the kernel to use updated packages.\n"
     ]
    }
   ],
   "source": [
    "%pip install llama-index-llms-openai\n",
    "%pip install llama-index-retrievers-bm25"
   ]
  },
  {
   "cell_type": "code",
   "execution_count": 1,
   "metadata": {},
   "outputs": [],
   "source": [
    "from llama_index.core import SimpleDirectoryReader\n",
    "\n",
    "documents = SimpleDirectoryReader(\"../data/\").load_data()"
   ]
  },
  {
   "cell_type": "code",
   "execution_count": 3,
   "metadata": {},
   "outputs": [],
   "source": [
    "from llama_index.core import VectorStoreIndex\n",
    "from llama_index.core.node_parser import SentenceSplitter\n",
    "\n",
    "splitter = SentenceSplitter(chunk_size=256)\n",
    "\n",
    "index = VectorStoreIndex.from_documents(documents, transformations=[splitter])"
   ]
  },
  {
   "cell_type": "code",
   "execution_count": 4,
   "metadata": {},
   "outputs": [
    {
     "name": "stderr",
     "output_type": "stream",
     "text": [
      "/Users/ngocp/Documents/projects/tu-vi-bot/.venv/lib/python3.10/site-packages/tqdm/auto.py:21: TqdmWarning: IProgress not found. Please update jupyter and ipywidgets. See https://ipywidgets.readthedocs.io/en/stable/user_install.html\n",
      "  from .autonotebook import tqdm as notebook_tqdm\n"
     ]
    }
   ],
   "source": [
    "from llama_index.retrievers.bm25 import BM25Retriever\n",
    "\n",
    "vector_retriever = index.as_retriever(similarity_top_k=2)\n",
    "\n",
    "bm25_retriever = BM25Retriever.from_defaults(\n",
    "    docstore=index.docstore, similarity_top_k=2\n",
    ")"
   ]
  },
  {
   "cell_type": "code",
   "execution_count": 5,
   "metadata": {},
   "outputs": [],
   "source": [
    "from llama_index.core.retrievers import QueryFusionRetriever\n",
    "\n",
    "retriever = QueryFusionRetriever(\n",
    "    [vector_retriever, bm25_retriever],\n",
    "    similarity_top_k=2,\n",
    "    num_queries=4,  # set this to 1 to disable query generation\n",
    "    mode=\"reciprocal_rerank\",\n",
    "    use_async=True,\n",
    "    verbose=True,\n",
    "    # query_gen_prompt=\"...\",  # we could override the query generation prompt here\n",
    ")"
   ]
  },
  {
   "cell_type": "code",
   "execution_count": 6,
   "metadata": {},
   "outputs": [],
   "source": [
    "# apply nested async to run in a notebook\n",
    "import nest_asyncio\n",
    "\n",
    "nest_asyncio.apply()"
   ]
  },
  {
   "cell_type": "code",
   "execution_count": 7,
   "metadata": {},
   "outputs": [
    {
     "name": "stdout",
     "output_type": "stream",
     "text": [
      "Generated queries:\n",
      "1. Các cung mệnh phù hợp với ngành nghề nào?\n",
      "2. Cách chọn cung mệnh phù hợp với công việc?\n",
      "3. Cung mệnh nào thích hợp với sở thích và năng lực của mình?\n",
      "[NodeWithScore(node=TextNode(id_='1ebd8ef3-2832-40f9-9896-a41f42e71390', embedding=None, metadata={'file_path': '/Users/ngocp/Documents/projects/tu-vi-bot/research/../data/cung-menh.txt', 'file_name': 'cung-menh.txt', 'file_type': 'text/plain', 'file_size': 406165, 'creation_date': '2024-10-03', 'last_modified_date': '2024-10-03'}, excluded_embed_metadata_keys=['file_name', 'file_type', 'file_size', 'creation_date', 'last_modified_date', 'last_accessed_date'], excluded_llm_metadata_keys=['file_name', 'file_type', 'file_size', 'creation_date', 'last_modified_date', 'last_accessed_date'], relationships={<NodeRelationship.SOURCE: '1'>: RelatedNodeInfo(node_id='e169f7ae-7108-4a0f-86fb-bc911ad8c0ae', node_type=<ObjectType.DOCUMENT: '4'>, metadata={'file_path': '/Users/ngocp/Documents/projects/tu-vi-bot/research/../data/cung-menh.txt', 'file_name': 'cung-menh.txt', 'file_type': 'text/plain', 'file_size': 406165, 'creation_date': '2024-10-03', 'last_modified_date': '2024-10-03'}, hash='40da5477fa62c787a971c32f3134ffd068ad8b043de545ea81398b7755358b4e'), <NodeRelationship.PREVIOUS: '2'>: RelatedNodeInfo(node_id='91b46226-a455-4263-aa41-3909a84e6eaa', node_type=<ObjectType.TEXT: '1'>, metadata={'file_path': '/Users/ngocp/Documents/projects/tu-vi-bot/research/../data/cung-menh.txt', 'file_name': 'cung-menh.txt', 'file_type': 'text/plain', 'file_size': 406165, 'creation_date': '2024-10-03', 'last_modified_date': '2024-10-03'}, hash='c41ad845fb474088782e3d0242c95b349b8df8d4b44d8f24c32169f508793699'), <NodeRelationship.NEXT: '3'>: RelatedNodeInfo(node_id='dece901c-1140-4036-af25-ae659c16301c', node_type=<ObjectType.TEXT: '1'>, metadata={}, hash='1af3071b30100c781a612a550359f5186e77c1235085513f3800b0c46bd2c59b')}, text='- Cự Môn độc tọa cung Tị hoặc Hợi, vì cung quan lộc là Thiên Cơ nên khá thích hợp với các công việc về văn và lập kế hoạch.\\n- Cự Môn ở cung Thìn hoặc Tuất, cung quan lộc là Thái Âm; trường hợp Thái Dương ở cung Thìn là cung vượng, thích hợp làm công chức hay giảng sư; trường hợp Thái Dương ở cung Tuất thì làm công chức là bất lợi, có thể làm nghề môi giới bảo hiểm, tổ chức sự kiện, chủ trì hội trường.', mimetype='text/plain', start_char_idx=53612, end_char_idx=54016, text_template='{metadata_str}\\n\\n{content}', metadata_template='{key}: {value}', metadata_seperator='\\n'), score=0.04972677595628415), NodeWithScore(node=TextNode(id_='54cd57e8-2887-46bf-9134-73a4ceb49405', embedding=None, metadata={'file_path': '/Users/ngocp/Documents/projects/tu-vi-bot/research/../data/cung-menh.txt', 'file_name': 'cung-menh.txt', 'file_type': 'text/plain', 'file_size': 406165, 'creation_date': '2024-10-03', 'last_modified_date': '2024-10-03'}, excluded_embed_metadata_keys=['file_name', 'file_type', 'file_size', 'creation_date', 'last_modified_date', 'last_accessed_date'], excluded_llm_metadata_keys=['file_name', 'file_type', 'file_size', 'creation_date', 'last_modified_date', 'last_accessed_date'], relationships={<NodeRelationship.SOURCE: '1'>: RelatedNodeInfo(node_id='e169f7ae-7108-4a0f-86fb-bc911ad8c0ae', node_type=<ObjectType.DOCUMENT: '4'>, metadata={'file_path': '/Users/ngocp/Documents/projects/tu-vi-bot/research/../data/cung-menh.txt', 'file_name': 'cung-menh.txt', 'file_type': 'text/plain', 'file_size': 406165, 'creation_date': '2024-10-03', 'last_modified_date': '2024-10-03'}, hash='40da5477fa62c787a971c32f3134ffd068ad8b043de545ea81398b7755358b4e'), <NodeRelationship.PREVIOUS: '2'>: RelatedNodeInfo(node_id='9f5458f1-6175-46a1-bd21-8e130404aea6', node_type=<ObjectType.TEXT: '1'>, metadata={'file_path': '/Users/ngocp/Documents/projects/tu-vi-bot/research/../data/cung-menh.txt', 'file_name': 'cung-menh.txt', 'file_type': 'text/plain', 'file_size': 406165, 'creation_date': '2024-10-03', 'last_modified_date': '2024-10-03'}, hash='305fe668a0e2cd6c01e3d9ccb19287021d93157551192c1549a17b4a18ba36c9'), <NodeRelationship.NEXT: '3'>: RelatedNodeInfo(node_id='6ab232bd-2d81-462c-9c6b-3e734ff09f82', node_type=<ObjectType.TEXT: '1'>, metadata={}, hash='142a3e37f4e84e859a17efae5d56ba2f519ac4c6983c574a1473ef77336d7c33')}, text='thích hợp với những nghề nghiệp cần phải động khẩu, động não, có tính cạnh tranh cao độ như thầy giáo, giáo sư, luật sư, quảng bá, mở rộng thị trường, nhân viên bán hàng, văn hóa, xuất bản, hoặc mậu dịch xuất nhập khẩu, đại lí bán hàng, môi giới mua bán chuyên nghiệp, quan hệ công cộng, bảo hiểm, hướng dẫn viên du lịch nghệ thuật biểu diễn, ẩm thực, v.v. đều rất thích hợp. Nhưng Cự Môn dễ bị bài xích, cần phải tránh họa xuất phát từ cái miệng.', mimetype='text/plain', start_char_idx=None, end_char_idx=None, text_template='{metadata_str}\\n\\n{content}', metadata_template='{key}: {value}', metadata_seperator='\\n'), score=0.03306010928961749)]\n"
     ]
    }
   ],
   "source": [
    "nodes_with_scores = retriever.retrieve(\n",
    "    \"Các cunh mệnh nào phù hợp với cơ nghiệp ?\"\n",
    ")\n",
    "\n",
    "print(nodes_with_scores)"
   ]
  },
  {
   "cell_type": "code",
   "execution_count": 8,
   "metadata": {},
   "outputs": [
    {
     "name": "stdout",
     "output_type": "stream",
     "text": [
      "Score: 0.05 - - Cự Môn độc tọa cung Tị hoặc Hợi, vì cung quan lộc là Thiên Cơ nên khá thích hợp với các công việc về văn và lập kế hoạch.\n",
      "- Cự Môn ở cung Thìn hoặc Tuất, cung quan lộc là Thái Âm; trường hợp Thái Dương ở cung Thìn là cung vượng, thích hợp làm công chức hay giảng sư; trường hợp Thái Dương ở cung Tuất thì làm công chức là bất lợi, có thể làm nghề môi giới bảo hiểm, tổ chức sự kiện, chủ trì hội trường....\n",
      "-----\n",
      "\n",
      "Score: 0.03 - thích hợp với những nghề nghiệp cần phải động khẩu, động não, có tính cạnh tranh cao độ như thầy giáo, giáo sư, luật sư, quảng bá, mở rộng thị trường, nhân viên bán hàng, văn hóa, xuất bản, hoặc mậu dịch xuất nhập khẩu, đại lí bán hàng, môi giới mua bán chuyên nghiệp, quan hệ công cộng, bảo hiểm, hướng dẫn viên du lịch nghệ thuật biểu diễn, ẩm thực, v.v. đều rất thích hợp. Nhưng Cự Môn dễ bị bài xích, cần phải tránh họa xuất phát từ cái miệng....\n",
      "-----\n",
      "\n"
     ]
    }
   ],
   "source": [
    "for node in nodes_with_scores:\n",
    "    print(f\"Score: {node.score:.2f} - {node.text}...\\n-----\\n\")\n"
   ]
  },
  {
   "cell_type": "code",
   "execution_count": 9,
   "metadata": {},
   "outputs": [],
   "source": [
    "from llama_index.core.query_engine import RetrieverQueryEngine\n",
    "\n",
    "query_engine = RetrieverQueryEngine.from_args(retriever)"
   ]
  },
  {
   "cell_type": "code",
   "execution_count": 12,
   "metadata": {},
   "outputs": [
    {
     "name": "stdout",
     "output_type": "stream",
     "text": [
      "Generated queries:\n",
      "1. Các cung mệnh nào phù hợp với ngành nghề kinh doanh?\n",
      "2. Tìm hiểu về cung mệnh phù hợp với cơ nghiệp\n",
      "3. Cách xác định cung mệnh phù hợp với lĩnh vực công việc\n",
      "Các cung mệnh phù hợp với ngành nghề kinh doanh giải trí, công nghiệp nghỉ mát, du lịch, giải trí, quan hệ công cộng, nghệ thuật biểu diễn bao gồm Thiên Đồng đồng cung với Kình Dương. Các cung mệnh thích hợp với công việc về văn và lập kế hoạch bao gồm Cự Môn độc tọa cung Tị hoặc Hợi, cung Thìn hoặc Tuất với cung quan lộc là Thái Âm, và trường hợp Thái Dương ở cung Thìn hoặc Tuất.\n"
     ]
    }
   ],
   "source": [
    "response = query_engine.query(\n",
    "    \"Các cunh mệnh nào phù hợp với cơ nghiệp ?\"\n",
    ")\n",
    "\n",
    "print(response)"
   ]
  }
 ],
 "metadata": {
  "kernelspec": {
   "display_name": ".venv",
   "language": "python",
   "name": "python3"
  },
  "language_info": {
   "codemirror_mode": {
    "name": "ipython",
    "version": 3
   },
   "file_extension": ".py",
   "mimetype": "text/x-python",
   "name": "python",
   "nbconvert_exporter": "python",
   "pygments_lexer": "ipython3",
   "version": "3.10.3"
  }
 },
 "nbformat": 4,
 "nbformat_minor": 2
}
