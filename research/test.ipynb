{
 "cells": [
  {
   "cell_type": "code",
   "execution_count": 2,
   "metadata": {},
   "outputs": [
    {
     "ename": "ModuleNotFoundError",
     "evalue": "No module named 'llama_index.graph_stores'",
     "output_type": "error",
     "traceback": [
      "\u001b[0;31m---------------------------------------------------------------------------\u001b[0m",
      "\u001b[0;31mModuleNotFoundError\u001b[0m                       Traceback (most recent call last)",
      "Cell \u001b[0;32mIn[2], line 1\u001b[0m\n\u001b[0;32m----> 1\u001b[0m \u001b[38;5;28;01mfrom\u001b[39;00m \u001b[38;5;21;01mllama_index\u001b[39;00m\u001b[38;5;21;01m.\u001b[39;00m\u001b[38;5;21;01mgraph_stores\u001b[39;00m\u001b[38;5;21;01m.\u001b[39;00m\u001b[38;5;21;01mneo4j\u001b[39;00m \u001b[38;5;28;01mimport\u001b[39;00m Neo4jPropertyGraphStore\n\u001b[1;32m      3\u001b[0m pg_store \u001b[38;5;241m=\u001b[39m Neo4jPropertyGraphStore(\n\u001b[1;32m      4\u001b[0m     username\u001b[38;5;241m=\u001b[39m\u001b[38;5;124m\"\u001b[39m\u001b[38;5;124mneo4j\u001b[39m\u001b[38;5;124m\"\u001b[39m,\n\u001b[1;32m      5\u001b[0m     password\u001b[38;5;241m=\u001b[39m\u001b[38;5;124m\"\u001b[39m\u001b[38;5;124mttt@123ASD\u001b[39m\u001b[38;5;124m\"\u001b[39m,\n\u001b[1;32m      6\u001b[0m     url\u001b[38;5;241m=\u001b[39m\u001b[38;5;124m\"\u001b[39m\u001b[38;5;124mbolt://localhost:7687\u001b[39m\u001b[38;5;124m\"\u001b[39m,\n\u001b[1;32m      7\u001b[0m )\n",
      "\u001b[0;31mModuleNotFoundError\u001b[0m: No module named 'llama_index.graph_stores'"
     ]
    }
   ],
   "source": [
    "from llama_index.graph_stores.neo4j import Neo4jPropertyGraphStore\n",
    "\n",
    "pg_store = Neo4jPropertyGraphStore(\n",
    "    username=\"neo4j\",\n",
    "    password=\"ttt@123ASD\",\n",
    "    url=\"bolt://localhost:7687\",\n",
    ")\n"
   ]
  },
  {
   "cell_type": "code",
   "execution_count": 1,
   "metadata": {},
   "outputs": [],
   "source": [
    "from llama_index.core.graph_stores.types import EntityNode, ChunkNode, Relation\n",
    "\n",
    "# Create a two entity nodes\n",
    "entity1 = EntityNode(label=\"PERSON\", name=\"Logan\", properties={\"age\": 28})\n",
    "entity2 = EntityNode(label=\"ORGANIZATION\", name=\"LlamaIndex\")\n",
    "\n",
    "# Create a relation\n",
    "relation = Relation(\n",
    "    label=\"WORKS_FOR\",\n",
    "    source_id=entity1.id,\n",
    "    target_id=entity2.id,\n",
    "    properties={\"since\": 2023},\n",
    ")"
   ]
  },
  {
   "cell_type": "code",
   "execution_count": null,
   "metadata": {},
   "outputs": [],
   "source": [
    "from llama_index.core.schema import TextNode\n",
    "\n",
    "source_node = TextNode(text=\"Logan (age 28), works for LlamaIndex since 2023.\")\n",
    "relations = [\n",
    "    Relation(\n",
    "        label=\"MENTIONS\",\n",
    "        target_id=entity1.id,\n",
    "        source_id=source_node.node_id,\n",
    "    ),\n",
    "    Relation(\n",
    "        label=\"MENTIONS\",\n",
    "        target_id=entity2.id,\n",
    "        source_id=source_node.node_id,\n",
    "    ),\n",
    "]\n",
    "\n",
    "pg_store.upsert_llama_nodes([source_node])\n",
    "pg_store.upsert_relations(relations)"
   ]
  }
 ],
 "metadata": {
  "kernelspec": {
   "display_name": ".venv",
   "language": "python",
   "name": "python3"
  },
  "language_info": {
   "codemirror_mode": {
    "name": "ipython",
    "version": 3
   },
   "file_extension": ".py",
   "mimetype": "text/x-python",
   "name": "python",
   "nbconvert_exporter": "python",
   "pygments_lexer": "ipython3",
   "version": "3.10.3"
  }
 },
 "nbformat": 4,
 "nbformat_minor": 2
}
