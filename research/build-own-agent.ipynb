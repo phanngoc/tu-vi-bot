{
 "cells": [
  {
   "cell_type": "markdown",
   "metadata": {},
   "source": [
    "# Build your own OpenAI Agent\n",
    "\n",
    "https://docs.llamaindex.ai/en/stable/examples/agent/openai_agent/"
   ]
  },
  {
   "cell_type": "code",
   "execution_count": 1,
   "metadata": {},
   "outputs": [
    {
     "name": "stdout",
     "output_type": "stream",
     "text": [
      "Requirement already satisfied: llama-index-agent-openai in /Users/ngocp/Documents/projects/tu-vi-bot/.venv/lib/python3.10/site-packages (0.3.4)\n",
      "Requirement already satisfied: llama-index-core<0.12.0,>=0.11.0 in /Users/ngocp/Documents/projects/tu-vi-bot/.venv/lib/python3.10/site-packages (from llama-index-agent-openai) (0.11.14)\n",
      "Requirement already satisfied: llama-index-llms-openai<0.3.0,>=0.2.9 in /Users/ngocp/Documents/projects/tu-vi-bot/.venv/lib/python3.10/site-packages (from llama-index-agent-openai) (0.2.9)\n",
      "Requirement already satisfied: openai>=1.14.0 in /Users/ngocp/Documents/projects/tu-vi-bot/.venv/lib/python3.10/site-packages (from llama-index-agent-openai) (1.50.2)\n",
      "Requirement already satisfied: PyYAML>=6.0.1 in /Users/ngocp/Documents/projects/tu-vi-bot/.venv/lib/python3.10/site-packages (from llama-index-core<0.12.0,>=0.11.0->llama-index-agent-openai) (6.0.2)\n",
      "Requirement already satisfied: SQLAlchemy>=1.4.49 in /Users/ngocp/Documents/projects/tu-vi-bot/.venv/lib/python3.10/site-packages (from SQLAlchemy[asyncio]>=1.4.49->llama-index-core<0.12.0,>=0.11.0->llama-index-agent-openai) (2.0.35)\n",
      "Requirement already satisfied: aiohttp<4.0.0,>=3.8.6 in /Users/ngocp/Documents/projects/tu-vi-bot/.venv/lib/python3.10/site-packages (from llama-index-core<0.12.0,>=0.11.0->llama-index-agent-openai) (3.10.7)\n",
      "Requirement already satisfied: dataclasses-json in /Users/ngocp/Documents/projects/tu-vi-bot/.venv/lib/python3.10/site-packages (from llama-index-core<0.12.0,>=0.11.0->llama-index-agent-openai) (0.6.7)\n",
      "Requirement already satisfied: deprecated>=1.2.9.3 in /Users/ngocp/Documents/projects/tu-vi-bot/.venv/lib/python3.10/site-packages (from llama-index-core<0.12.0,>=0.11.0->llama-index-agent-openai) (1.2.14)\n",
      "Requirement already satisfied: dirtyjson<2.0.0,>=1.0.8 in /Users/ngocp/Documents/projects/tu-vi-bot/.venv/lib/python3.10/site-packages (from llama-index-core<0.12.0,>=0.11.0->llama-index-agent-openai) (1.0.8)\n",
      "Requirement already satisfied: fsspec>=2023.5.0 in /Users/ngocp/Documents/projects/tu-vi-bot/.venv/lib/python3.10/site-packages (from llama-index-core<0.12.0,>=0.11.0->llama-index-agent-openai) (2024.9.0)\n",
      "Requirement already satisfied: httpx in /Users/ngocp/Documents/projects/tu-vi-bot/.venv/lib/python3.10/site-packages (from llama-index-core<0.12.0,>=0.11.0->llama-index-agent-openai) (0.27.2)\n",
      "Requirement already satisfied: nest-asyncio<2.0.0,>=1.5.8 in /Users/ngocp/Documents/projects/tu-vi-bot/.venv/lib/python3.10/site-packages (from llama-index-core<0.12.0,>=0.11.0->llama-index-agent-openai) (1.6.0)\n",
      "Requirement already satisfied: networkx>=3.0 in /Users/ngocp/Documents/projects/tu-vi-bot/.venv/lib/python3.10/site-packages (from llama-index-core<0.12.0,>=0.11.0->llama-index-agent-openai) (3.3)\n",
      "Requirement already satisfied: nltk>3.8.1 in /Users/ngocp/Documents/projects/tu-vi-bot/.venv/lib/python3.10/site-packages (from llama-index-core<0.12.0,>=0.11.0->llama-index-agent-openai) (3.9.1)\n",
      "Requirement already satisfied: numpy<2.0.0 in /Users/ngocp/Documents/projects/tu-vi-bot/.venv/lib/python3.10/site-packages (from llama-index-core<0.12.0,>=0.11.0->llama-index-agent-openai) (1.26.4)\n",
      "Requirement already satisfied: pillow>=9.0.0 in /Users/ngocp/Documents/projects/tu-vi-bot/.venv/lib/python3.10/site-packages (from llama-index-core<0.12.0,>=0.11.0->llama-index-agent-openai) (10.4.0)\n",
      "Requirement already satisfied: pydantic<3.0.0,>=2.7.0 in /Users/ngocp/Documents/projects/tu-vi-bot/.venv/lib/python3.10/site-packages (from llama-index-core<0.12.0,>=0.11.0->llama-index-agent-openai) (2.9.2)\n",
      "Requirement already satisfied: requests>=2.31.0 in /Users/ngocp/Documents/projects/tu-vi-bot/.venv/lib/python3.10/site-packages (from llama-index-core<0.12.0,>=0.11.0->llama-index-agent-openai) (2.32.3)\n",
      "Requirement already satisfied: tenacity!=8.4.0,<9.0.0,>=8.2.0 in /Users/ngocp/Documents/projects/tu-vi-bot/.venv/lib/python3.10/site-packages (from llama-index-core<0.12.0,>=0.11.0->llama-index-agent-openai) (8.5.0)\n",
      "Requirement already satisfied: tiktoken>=0.3.3 in /Users/ngocp/Documents/projects/tu-vi-bot/.venv/lib/python3.10/site-packages (from llama-index-core<0.12.0,>=0.11.0->llama-index-agent-openai) (0.7.0)\n",
      "Requirement already satisfied: tqdm<5.0.0,>=4.66.1 in /Users/ngocp/Documents/projects/tu-vi-bot/.venv/lib/python3.10/site-packages (from llama-index-core<0.12.0,>=0.11.0->llama-index-agent-openai) (4.66.5)\n",
      "Requirement already satisfied: typing-extensions>=4.5.0 in /Users/ngocp/Documents/projects/tu-vi-bot/.venv/lib/python3.10/site-packages (from llama-index-core<0.12.0,>=0.11.0->llama-index-agent-openai) (4.12.2)\n",
      "Requirement already satisfied: typing-inspect>=0.8.0 in /Users/ngocp/Documents/projects/tu-vi-bot/.venv/lib/python3.10/site-packages (from llama-index-core<0.12.0,>=0.11.0->llama-index-agent-openai) (0.9.0)\n",
      "Requirement already satisfied: wrapt in /Users/ngocp/Documents/projects/tu-vi-bot/.venv/lib/python3.10/site-packages (from llama-index-core<0.12.0,>=0.11.0->llama-index-agent-openai) (1.16.0)\n",
      "Requirement already satisfied: anyio<5,>=3.5.0 in /Users/ngocp/Documents/projects/tu-vi-bot/.venv/lib/python3.10/site-packages (from openai>=1.14.0->llama-index-agent-openai) (4.6.0)\n",
      "Requirement already satisfied: distro<2,>=1.7.0 in /Users/ngocp/Documents/projects/tu-vi-bot/.venv/lib/python3.10/site-packages (from openai>=1.14.0->llama-index-agent-openai) (1.9.0)\n",
      "Requirement already satisfied: jiter<1,>=0.4.0 in /Users/ngocp/Documents/projects/tu-vi-bot/.venv/lib/python3.10/site-packages (from openai>=1.14.0->llama-index-agent-openai) (0.5.0)\n",
      "Requirement already satisfied: sniffio in /Users/ngocp/Documents/projects/tu-vi-bot/.venv/lib/python3.10/site-packages (from openai>=1.14.0->llama-index-agent-openai) (1.3.1)\n",
      "Requirement already satisfied: aiohappyeyeballs>=2.3.0 in /Users/ngocp/Documents/projects/tu-vi-bot/.venv/lib/python3.10/site-packages (from aiohttp<4.0.0,>=3.8.6->llama-index-core<0.12.0,>=0.11.0->llama-index-agent-openai) (2.4.2)\n",
      "Requirement already satisfied: aiosignal>=1.1.2 in /Users/ngocp/Documents/projects/tu-vi-bot/.venv/lib/python3.10/site-packages (from aiohttp<4.0.0,>=3.8.6->llama-index-core<0.12.0,>=0.11.0->llama-index-agent-openai) (1.3.1)\n",
      "Requirement already satisfied: attrs>=17.3.0 in /Users/ngocp/Documents/projects/tu-vi-bot/.venv/lib/python3.10/site-packages (from aiohttp<4.0.0,>=3.8.6->llama-index-core<0.12.0,>=0.11.0->llama-index-agent-openai) (23.2.0)\n",
      "Requirement already satisfied: frozenlist>=1.1.1 in /Users/ngocp/Documents/projects/tu-vi-bot/.venv/lib/python3.10/site-packages (from aiohttp<4.0.0,>=3.8.6->llama-index-core<0.12.0,>=0.11.0->llama-index-agent-openai) (1.4.1)\n",
      "Requirement already satisfied: multidict<7.0,>=4.5 in /Users/ngocp/Documents/projects/tu-vi-bot/.venv/lib/python3.10/site-packages (from aiohttp<4.0.0,>=3.8.6->llama-index-core<0.12.0,>=0.11.0->llama-index-agent-openai) (6.1.0)\n",
      "Requirement already satisfied: yarl<2.0,>=1.12.0 in /Users/ngocp/Documents/projects/tu-vi-bot/.venv/lib/python3.10/site-packages (from aiohttp<4.0.0,>=3.8.6->llama-index-core<0.12.0,>=0.11.0->llama-index-agent-openai) (1.13.1)\n",
      "Requirement already satisfied: async-timeout<5.0,>=4.0 in /Users/ngocp/Documents/projects/tu-vi-bot/.venv/lib/python3.10/site-packages (from aiohttp<4.0.0,>=3.8.6->llama-index-core<0.12.0,>=0.11.0->llama-index-agent-openai) (4.0.3)\n",
      "Requirement already satisfied: idna>=2.8 in /Users/ngocp/Documents/projects/tu-vi-bot/.venv/lib/python3.10/site-packages (from anyio<5,>=3.5.0->openai>=1.14.0->llama-index-agent-openai) (3.10)\n",
      "Requirement already satisfied: exceptiongroup>=1.0.2 in /Users/ngocp/Documents/projects/tu-vi-bot/.venv/lib/python3.10/site-packages (from anyio<5,>=3.5.0->openai>=1.14.0->llama-index-agent-openai) (1.2.2)\n",
      "Requirement already satisfied: certifi in /Users/ngocp/Documents/projects/tu-vi-bot/.venv/lib/python3.10/site-packages (from httpx->llama-index-core<0.12.0,>=0.11.0->llama-index-agent-openai) (2024.8.30)\n",
      "Requirement already satisfied: httpcore==1.* in /Users/ngocp/Documents/projects/tu-vi-bot/.venv/lib/python3.10/site-packages (from httpx->llama-index-core<0.12.0,>=0.11.0->llama-index-agent-openai) (1.0.5)\n",
      "Requirement already satisfied: h11<0.15,>=0.13 in /Users/ngocp/Documents/projects/tu-vi-bot/.venv/lib/python3.10/site-packages (from httpcore==1.*->httpx->llama-index-core<0.12.0,>=0.11.0->llama-index-agent-openai) (0.14.0)\n",
      "Requirement already satisfied: click in /Users/ngocp/Documents/projects/tu-vi-bot/.venv/lib/python3.10/site-packages (from nltk>3.8.1->llama-index-core<0.12.0,>=0.11.0->llama-index-agent-openai) (8.1.7)\n",
      "Requirement already satisfied: joblib in /Users/ngocp/Documents/projects/tu-vi-bot/.venv/lib/python3.10/site-packages (from nltk>3.8.1->llama-index-core<0.12.0,>=0.11.0->llama-index-agent-openai) (1.4.2)\n",
      "Requirement already satisfied: regex>=2021.8.3 in /Users/ngocp/Documents/projects/tu-vi-bot/.venv/lib/python3.10/site-packages (from nltk>3.8.1->llama-index-core<0.12.0,>=0.11.0->llama-index-agent-openai) (2024.9.11)\n",
      "Requirement already satisfied: annotated-types>=0.6.0 in /Users/ngocp/Documents/projects/tu-vi-bot/.venv/lib/python3.10/site-packages (from pydantic<3.0.0,>=2.7.0->llama-index-core<0.12.0,>=0.11.0->llama-index-agent-openai) (0.7.0)\n",
      "Requirement already satisfied: pydantic-core==2.23.4 in /Users/ngocp/Documents/projects/tu-vi-bot/.venv/lib/python3.10/site-packages (from pydantic<3.0.0,>=2.7.0->llama-index-core<0.12.0,>=0.11.0->llama-index-agent-openai) (2.23.4)\n",
      "Requirement already satisfied: charset-normalizer<4,>=2 in /Users/ngocp/Documents/projects/tu-vi-bot/.venv/lib/python3.10/site-packages (from requests>=2.31.0->llama-index-core<0.12.0,>=0.11.0->llama-index-agent-openai) (3.3.2)\n",
      "Requirement already satisfied: urllib3<3,>=1.21.1 in /Users/ngocp/Documents/projects/tu-vi-bot/.venv/lib/python3.10/site-packages (from requests>=2.31.0->llama-index-core<0.12.0,>=0.11.0->llama-index-agent-openai) (2.2.3)\n",
      "Requirement already satisfied: greenlet!=0.4.17 in /Users/ngocp/Documents/projects/tu-vi-bot/.venv/lib/python3.10/site-packages (from SQLAlchemy[asyncio]>=1.4.49->llama-index-core<0.12.0,>=0.11.0->llama-index-agent-openai) (3.1.1)\n",
      "Requirement already satisfied: mypy-extensions>=0.3.0 in /Users/ngocp/Documents/projects/tu-vi-bot/.venv/lib/python3.10/site-packages (from typing-inspect>=0.8.0->llama-index-core<0.12.0,>=0.11.0->llama-index-agent-openai) (1.0.0)\n",
      "Requirement already satisfied: marshmallow<4.0.0,>=3.18.0 in /Users/ngocp/Documents/projects/tu-vi-bot/.venv/lib/python3.10/site-packages (from dataclasses-json->llama-index-core<0.12.0,>=0.11.0->llama-index-agent-openai) (3.22.0)\n",
      "Requirement already satisfied: packaging>=17.0 in /Users/ngocp/Documents/projects/tu-vi-bot/.venv/lib/python3.10/site-packages (from marshmallow<4.0.0,>=3.18.0->dataclasses-json->llama-index-core<0.12.0,>=0.11.0->llama-index-agent-openai) (24.1)\n",
      "Note: you may need to restart the kernel to use updated packages.\n",
      "Requirement already satisfied: llama-index-llms-openai in /Users/ngocp/Documents/projects/tu-vi-bot/.venv/lib/python3.10/site-packages (0.2.9)\n",
      "Requirement already satisfied: llama-index-core<0.12.0,>=0.11.7 in /Users/ngocp/Documents/projects/tu-vi-bot/.venv/lib/python3.10/site-packages (from llama-index-llms-openai) (0.11.14)\n",
      "Requirement already satisfied: openai<2.0.0,>=1.40.0 in /Users/ngocp/Documents/projects/tu-vi-bot/.venv/lib/python3.10/site-packages (from llama-index-llms-openai) (1.50.2)\n",
      "Requirement already satisfied: PyYAML>=6.0.1 in /Users/ngocp/Documents/projects/tu-vi-bot/.venv/lib/python3.10/site-packages (from llama-index-core<0.12.0,>=0.11.7->llama-index-llms-openai) (6.0.2)\n",
      "Requirement already satisfied: SQLAlchemy>=1.4.49 in /Users/ngocp/Documents/projects/tu-vi-bot/.venv/lib/python3.10/site-packages (from SQLAlchemy[asyncio]>=1.4.49->llama-index-core<0.12.0,>=0.11.7->llama-index-llms-openai) (2.0.35)\n",
      "Requirement already satisfied: aiohttp<4.0.0,>=3.8.6 in /Users/ngocp/Documents/projects/tu-vi-bot/.venv/lib/python3.10/site-packages (from llama-index-core<0.12.0,>=0.11.7->llama-index-llms-openai) (3.10.7)\n",
      "Requirement already satisfied: dataclasses-json in /Users/ngocp/Documents/projects/tu-vi-bot/.venv/lib/python3.10/site-packages (from llama-index-core<0.12.0,>=0.11.7->llama-index-llms-openai) (0.6.7)\n",
      "Requirement already satisfied: deprecated>=1.2.9.3 in /Users/ngocp/Documents/projects/tu-vi-bot/.venv/lib/python3.10/site-packages (from llama-index-core<0.12.0,>=0.11.7->llama-index-llms-openai) (1.2.14)\n",
      "Requirement already satisfied: dirtyjson<2.0.0,>=1.0.8 in /Users/ngocp/Documents/projects/tu-vi-bot/.venv/lib/python3.10/site-packages (from llama-index-core<0.12.0,>=0.11.7->llama-index-llms-openai) (1.0.8)\n",
      "Requirement already satisfied: fsspec>=2023.5.0 in /Users/ngocp/Documents/projects/tu-vi-bot/.venv/lib/python3.10/site-packages (from llama-index-core<0.12.0,>=0.11.7->llama-index-llms-openai) (2024.9.0)\n",
      "Requirement already satisfied: httpx in /Users/ngocp/Documents/projects/tu-vi-bot/.venv/lib/python3.10/site-packages (from llama-index-core<0.12.0,>=0.11.7->llama-index-llms-openai) (0.27.2)\n",
      "Requirement already satisfied: nest-asyncio<2.0.0,>=1.5.8 in /Users/ngocp/Documents/projects/tu-vi-bot/.venv/lib/python3.10/site-packages (from llama-index-core<0.12.0,>=0.11.7->llama-index-llms-openai) (1.6.0)\n",
      "Requirement already satisfied: networkx>=3.0 in /Users/ngocp/Documents/projects/tu-vi-bot/.venv/lib/python3.10/site-packages (from llama-index-core<0.12.0,>=0.11.7->llama-index-llms-openai) (3.3)\n",
      "Requirement already satisfied: nltk>3.8.1 in /Users/ngocp/Documents/projects/tu-vi-bot/.venv/lib/python3.10/site-packages (from llama-index-core<0.12.0,>=0.11.7->llama-index-llms-openai) (3.9.1)\n",
      "Requirement already satisfied: numpy<2.0.0 in /Users/ngocp/Documents/projects/tu-vi-bot/.venv/lib/python3.10/site-packages (from llama-index-core<0.12.0,>=0.11.7->llama-index-llms-openai) (1.26.4)\n",
      "Requirement already satisfied: pillow>=9.0.0 in /Users/ngocp/Documents/projects/tu-vi-bot/.venv/lib/python3.10/site-packages (from llama-index-core<0.12.0,>=0.11.7->llama-index-llms-openai) (10.4.0)\n",
      "Requirement already satisfied: pydantic<3.0.0,>=2.7.0 in /Users/ngocp/Documents/projects/tu-vi-bot/.venv/lib/python3.10/site-packages (from llama-index-core<0.12.0,>=0.11.7->llama-index-llms-openai) (2.9.2)\n",
      "Requirement already satisfied: requests>=2.31.0 in /Users/ngocp/Documents/projects/tu-vi-bot/.venv/lib/python3.10/site-packages (from llama-index-core<0.12.0,>=0.11.7->llama-index-llms-openai) (2.32.3)\n",
      "Requirement already satisfied: tenacity!=8.4.0,<9.0.0,>=8.2.0 in /Users/ngocp/Documents/projects/tu-vi-bot/.venv/lib/python3.10/site-packages (from llama-index-core<0.12.0,>=0.11.7->llama-index-llms-openai) (8.5.0)\n",
      "Requirement already satisfied: tiktoken>=0.3.3 in /Users/ngocp/Documents/projects/tu-vi-bot/.venv/lib/python3.10/site-packages (from llama-index-core<0.12.0,>=0.11.7->llama-index-llms-openai) (0.7.0)\n",
      "Requirement already satisfied: tqdm<5.0.0,>=4.66.1 in /Users/ngocp/Documents/projects/tu-vi-bot/.venv/lib/python3.10/site-packages (from llama-index-core<0.12.0,>=0.11.7->llama-index-llms-openai) (4.66.5)\n",
      "Requirement already satisfied: typing-extensions>=4.5.0 in /Users/ngocp/Documents/projects/tu-vi-bot/.venv/lib/python3.10/site-packages (from llama-index-core<0.12.0,>=0.11.7->llama-index-llms-openai) (4.12.2)\n",
      "Requirement already satisfied: typing-inspect>=0.8.0 in /Users/ngocp/Documents/projects/tu-vi-bot/.venv/lib/python3.10/site-packages (from llama-index-core<0.12.0,>=0.11.7->llama-index-llms-openai) (0.9.0)\n",
      "Requirement already satisfied: wrapt in /Users/ngocp/Documents/projects/tu-vi-bot/.venv/lib/python3.10/site-packages (from llama-index-core<0.12.0,>=0.11.7->llama-index-llms-openai) (1.16.0)\n",
      "Requirement already satisfied: anyio<5,>=3.5.0 in /Users/ngocp/Documents/projects/tu-vi-bot/.venv/lib/python3.10/site-packages (from openai<2.0.0,>=1.40.0->llama-index-llms-openai) (4.6.0)\n",
      "Requirement already satisfied: distro<2,>=1.7.0 in /Users/ngocp/Documents/projects/tu-vi-bot/.venv/lib/python3.10/site-packages (from openai<2.0.0,>=1.40.0->llama-index-llms-openai) (1.9.0)\n",
      "Requirement already satisfied: jiter<1,>=0.4.0 in /Users/ngocp/Documents/projects/tu-vi-bot/.venv/lib/python3.10/site-packages (from openai<2.0.0,>=1.40.0->llama-index-llms-openai) (0.5.0)\n",
      "Requirement already satisfied: sniffio in /Users/ngocp/Documents/projects/tu-vi-bot/.venv/lib/python3.10/site-packages (from openai<2.0.0,>=1.40.0->llama-index-llms-openai) (1.3.1)\n",
      "Requirement already satisfied: aiohappyeyeballs>=2.3.0 in /Users/ngocp/Documents/projects/tu-vi-bot/.venv/lib/python3.10/site-packages (from aiohttp<4.0.0,>=3.8.6->llama-index-core<0.12.0,>=0.11.7->llama-index-llms-openai) (2.4.2)\n",
      "Requirement already satisfied: aiosignal>=1.1.2 in /Users/ngocp/Documents/projects/tu-vi-bot/.venv/lib/python3.10/site-packages (from aiohttp<4.0.0,>=3.8.6->llama-index-core<0.12.0,>=0.11.7->llama-index-llms-openai) (1.3.1)\n",
      "Requirement already satisfied: attrs>=17.3.0 in /Users/ngocp/Documents/projects/tu-vi-bot/.venv/lib/python3.10/site-packages (from aiohttp<4.0.0,>=3.8.6->llama-index-core<0.12.0,>=0.11.7->llama-index-llms-openai) (23.2.0)\n",
      "Requirement already satisfied: frozenlist>=1.1.1 in /Users/ngocp/Documents/projects/tu-vi-bot/.venv/lib/python3.10/site-packages (from aiohttp<4.0.0,>=3.8.6->llama-index-core<0.12.0,>=0.11.7->llama-index-llms-openai) (1.4.1)\n",
      "Requirement already satisfied: multidict<7.0,>=4.5 in /Users/ngocp/Documents/projects/tu-vi-bot/.venv/lib/python3.10/site-packages (from aiohttp<4.0.0,>=3.8.6->llama-index-core<0.12.0,>=0.11.7->llama-index-llms-openai) (6.1.0)\n",
      "Requirement already satisfied: yarl<2.0,>=1.12.0 in /Users/ngocp/Documents/projects/tu-vi-bot/.venv/lib/python3.10/site-packages (from aiohttp<4.0.0,>=3.8.6->llama-index-core<0.12.0,>=0.11.7->llama-index-llms-openai) (1.13.1)\n",
      "Requirement already satisfied: async-timeout<5.0,>=4.0 in /Users/ngocp/Documents/projects/tu-vi-bot/.venv/lib/python3.10/site-packages (from aiohttp<4.0.0,>=3.8.6->llama-index-core<0.12.0,>=0.11.7->llama-index-llms-openai) (4.0.3)\n",
      "Requirement already satisfied: idna>=2.8 in /Users/ngocp/Documents/projects/tu-vi-bot/.venv/lib/python3.10/site-packages (from anyio<5,>=3.5.0->openai<2.0.0,>=1.40.0->llama-index-llms-openai) (3.10)\n",
      "Requirement already satisfied: exceptiongroup>=1.0.2 in /Users/ngocp/Documents/projects/tu-vi-bot/.venv/lib/python3.10/site-packages (from anyio<5,>=3.5.0->openai<2.0.0,>=1.40.0->llama-index-llms-openai) (1.2.2)\n",
      "Requirement already satisfied: certifi in /Users/ngocp/Documents/projects/tu-vi-bot/.venv/lib/python3.10/site-packages (from httpx->llama-index-core<0.12.0,>=0.11.7->llama-index-llms-openai) (2024.8.30)\n",
      "Requirement already satisfied: httpcore==1.* in /Users/ngocp/Documents/projects/tu-vi-bot/.venv/lib/python3.10/site-packages (from httpx->llama-index-core<0.12.0,>=0.11.7->llama-index-llms-openai) (1.0.5)\n",
      "Requirement already satisfied: h11<0.15,>=0.13 in /Users/ngocp/Documents/projects/tu-vi-bot/.venv/lib/python3.10/site-packages (from httpcore==1.*->httpx->llama-index-core<0.12.0,>=0.11.7->llama-index-llms-openai) (0.14.0)\n",
      "Requirement already satisfied: click in /Users/ngocp/Documents/projects/tu-vi-bot/.venv/lib/python3.10/site-packages (from nltk>3.8.1->llama-index-core<0.12.0,>=0.11.7->llama-index-llms-openai) (8.1.7)\n",
      "Requirement already satisfied: joblib in /Users/ngocp/Documents/projects/tu-vi-bot/.venv/lib/python3.10/site-packages (from nltk>3.8.1->llama-index-core<0.12.0,>=0.11.7->llama-index-llms-openai) (1.4.2)\n",
      "Requirement already satisfied: regex>=2021.8.3 in /Users/ngocp/Documents/projects/tu-vi-bot/.venv/lib/python3.10/site-packages (from nltk>3.8.1->llama-index-core<0.12.0,>=0.11.7->llama-index-llms-openai) (2024.9.11)\n",
      "Requirement already satisfied: annotated-types>=0.6.0 in /Users/ngocp/Documents/projects/tu-vi-bot/.venv/lib/python3.10/site-packages (from pydantic<3.0.0,>=2.7.0->llama-index-core<0.12.0,>=0.11.7->llama-index-llms-openai) (0.7.0)\n",
      "Requirement already satisfied: pydantic-core==2.23.4 in /Users/ngocp/Documents/projects/tu-vi-bot/.venv/lib/python3.10/site-packages (from pydantic<3.0.0,>=2.7.0->llama-index-core<0.12.0,>=0.11.7->llama-index-llms-openai) (2.23.4)\n",
      "Requirement already satisfied: charset-normalizer<4,>=2 in /Users/ngocp/Documents/projects/tu-vi-bot/.venv/lib/python3.10/site-packages (from requests>=2.31.0->llama-index-core<0.12.0,>=0.11.7->llama-index-llms-openai) (3.3.2)\n",
      "Requirement already satisfied: urllib3<3,>=1.21.1 in /Users/ngocp/Documents/projects/tu-vi-bot/.venv/lib/python3.10/site-packages (from requests>=2.31.0->llama-index-core<0.12.0,>=0.11.7->llama-index-llms-openai) (2.2.3)\n",
      "Requirement already satisfied: greenlet!=0.4.17 in /Users/ngocp/Documents/projects/tu-vi-bot/.venv/lib/python3.10/site-packages (from SQLAlchemy[asyncio]>=1.4.49->llama-index-core<0.12.0,>=0.11.7->llama-index-llms-openai) (3.1.1)\n",
      "Requirement already satisfied: mypy-extensions>=0.3.0 in /Users/ngocp/Documents/projects/tu-vi-bot/.venv/lib/python3.10/site-packages (from typing-inspect>=0.8.0->llama-index-core<0.12.0,>=0.11.7->llama-index-llms-openai) (1.0.0)\n",
      "Requirement already satisfied: marshmallow<4.0.0,>=3.18.0 in /Users/ngocp/Documents/projects/tu-vi-bot/.venv/lib/python3.10/site-packages (from dataclasses-json->llama-index-core<0.12.0,>=0.11.7->llama-index-llms-openai) (3.22.0)\n",
      "Requirement already satisfied: packaging>=17.0 in /Users/ngocp/Documents/projects/tu-vi-bot/.venv/lib/python3.10/site-packages (from marshmallow<4.0.0,>=3.18.0->dataclasses-json->llama-index-core<0.12.0,>=0.11.7->llama-index-llms-openai) (24.1)\n",
      "Note: you may need to restart the kernel to use updated packages.\n"
     ]
    }
   ],
   "source": [
    "%pip install llama-index-agent-openai\n",
    "%pip install llama-index-llms-openai"
   ]
  },
  {
   "cell_type": "code",
   "execution_count": 2,
   "metadata": {},
   "outputs": [],
   "source": [
    "import json\n",
    "from typing import Sequence, List\n",
    "\n",
    "from llama_index.llms.openai import OpenAI\n",
    "from llama_index.core.llms import ChatMessage\n",
    "from llama_index.core.tools import BaseTool, FunctionTool\n",
    "from openai.types.chat import ChatCompletionMessageToolCall\n",
    "\n",
    "import nest_asyncio\n",
    "\n",
    "nest_asyncio.apply()"
   ]
  },
  {
   "cell_type": "code",
   "execution_count": 3,
   "metadata": {},
   "outputs": [],
   "source": [
    "def multiply(a: int, b: int) -> int:\n",
    "    \"\"\"Multiple two integers and returns the result integer\"\"\"\n",
    "    return a * b\n",
    "\n",
    "\n",
    "multiply_tool = FunctionTool.from_defaults(fn=multiply)"
   ]
  },
  {
   "cell_type": "code",
   "execution_count": 4,
   "metadata": {},
   "outputs": [],
   "source": [
    "def add(a: int, b: int) -> int:\n",
    "    \"\"\"Add two integers and returns the result integer\"\"\"\n",
    "    return a + b\n",
    "\n",
    "\n",
    "add_tool = FunctionTool.from_defaults(fn=add)"
   ]
  },
  {
   "cell_type": "code",
   "execution_count": 10,
   "metadata": {},
   "outputs": [],
   "source": [
    "class CaculateOpenAIAgent:\n",
    "    def __init__(\n",
    "        self,\n",
    "        tools: Sequence[BaseTool] = [],\n",
    "        llm: OpenAI = OpenAI(temperature=0, model=\"gpt-4o-mini\"),\n",
    "        chat_history: List[ChatMessage] = [],\n",
    "    ) -> None:\n",
    "        self._llm = llm\n",
    "        self._tools = {tool.metadata.name: tool for tool in tools}\n",
    "        self._chat_history = chat_history\n",
    "\n",
    "    def reset(self) -> None:\n",
    "        self._chat_history = []\n",
    "\n",
    "    def chat(self, message: str) -> str:\n",
    "        chat_history = self._chat_history\n",
    "        chat_history.append(ChatMessage(role=\"user\", content=message))\n",
    "        tools = [\n",
    "            tool.metadata.to_openai_tool() for _, tool in self._tools.items()\n",
    "        ]\n",
    "\n",
    "        ai_message = self._llm.chat(chat_history, tools=tools).message\n",
    "        additional_kwargs = ai_message.additional_kwargs\n",
    "        chat_history.append(ai_message)\n",
    "\n",
    "        tool_calls = additional_kwargs.get(\"tool_calls\", None)\n",
    "        # parallel function calling is now supported\n",
    "        if tool_calls is not None:\n",
    "            for tool_call in tool_calls:\n",
    "                function_message = self._call_function(tool_call)\n",
    "                chat_history.append(function_message)\n",
    "                ai_message = self._llm.chat(chat_history).message\n",
    "                chat_history.append(ai_message)\n",
    "\n",
    "        return ai_message.content\n",
    "\n",
    "    def _call_function(\n",
    "        self, tool_call: ChatCompletionMessageToolCall\n",
    "    ) -> ChatMessage:\n",
    "        id_ = tool_call.id\n",
    "        function_call = tool_call.function\n",
    "        tool = self._tools[function_call.name]\n",
    "        output = tool(**json.loads(function_call.arguments))\n",
    "        return ChatMessage(\n",
    "            name=function_call.name,\n",
    "            content=str(output),\n",
    "            role=\"tool\",\n",
    "            additional_kwargs={\n",
    "                \"tool_call_id\": id_,\n",
    "                \"name\": function_call.name,\n",
    "            },\n",
    "        )"
   ]
  },
  {
   "cell_type": "code",
   "execution_count": 11,
   "metadata": {},
   "outputs": [],
   "source": [
    "agent = CaculateOpenAIAgent(tools=[multiply_tool, add_tool])"
   ]
  },
  {
   "cell_type": "code",
   "execution_count": 12,
   "metadata": {},
   "outputs": [
    {
     "data": {
      "text/plain": [
       "'Hello! How can I assist you today?'"
      ]
     },
     "execution_count": 12,
     "metadata": {},
     "output_type": "execute_result"
    }
   ],
   "source": [
    "agent.chat(\"Hi\")"
   ]
  },
  {
   "cell_type": "code",
   "execution_count": 13,
   "metadata": {},
   "outputs": [
    {
     "data": {
      "text/plain": [
       "'Bạn có thể cho tôi biết kết quả nào bạn muốn cộng với 300 không?'"
      ]
     },
     "execution_count": 13,
     "metadata": {},
     "output_type": "execute_result"
    }
   ],
   "source": [
    "agent.chat(\"nếu tôi cộng kết quả với 300 thì ra mấy ?\")"
   ]
  }
 ],
 "metadata": {
  "kernelspec": {
   "display_name": ".venv",
   "language": "python",
   "name": "python3"
  },
  "language_info": {
   "codemirror_mode": {
    "name": "ipython",
    "version": 3
   },
   "file_extension": ".py",
   "mimetype": "text/x-python",
   "name": "python",
   "nbconvert_exporter": "python",
   "pygments_lexer": "ipython3",
   "version": "3.10.3"
  }
 },
 "nbformat": 4,
 "nbformat_minor": 2
}
