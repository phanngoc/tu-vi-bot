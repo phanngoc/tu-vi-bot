{
 "cells": [
  {
   "cell_type": "markdown",
   "metadata": {},
   "source": [
    "# Test cách sử dụng chromadb để lưu trữ dữ liệu"
   ]
  },
  {
   "cell_type": "code",
   "execution_count": 1,
   "metadata": {},
   "outputs": [
    {
     "name": "stdout",
     "output_type": "stream",
     "text": [
      "[Collection(id=7e169e49-bbe7-4c9b-9ed0-67592612b1a0, name=tu-vi), Collection(id=c552ee97-dc8b-40f3-b615-e529d9027381, name=quickstart)]\n"
     ]
    }
   ],
   "source": [
    "import chromadb\n",
    "import os\n",
    "from llama_index.embeddings.openai import OpenAIEmbedding\n",
    "from chromadb.utils.embedding_functions import OpenAIEmbeddingFunction, DefaultEmbeddingFunction\n",
    "\n",
    "os.environ[\"OPENAI_API_KEY\"] = os.getenv('OPENAI_API_KEY')\n",
    "embed_model = OpenAIEmbedding(model=\"text-embedding-3-small\", dimensions=1536)\n",
    "openai_ef = OpenAIEmbeddingFunction(api_key=os.getenv(\"OPENAI_API_KEY\"), model_name=\"text-embedding-3-small\")\n",
    "\n",
    "client = chromadb.PersistentClient(path=\"./chroma_db\")\n",
    "collections = client.list_collections()\n",
    "print(collections)"
   ]
  },
  {
   "cell_type": "code",
   "execution_count": 3,
   "metadata": {},
   "outputs": [
    {
     "name": "stdout",
     "output_type": "stream",
     "text": [
      "count 147\n"
     ]
    }
   ],
   "source": [
    "\n",
    "collection_tu_vi = client.get_or_create_collection(\"tu-vi\", embedding_function=openai_ef)\n",
    "\n",
    "# print('peek', collection_tu_vi.peek())\n",
    "print('count', collection_tu_vi.count())"
   ]
  },
  {
   "cell_type": "code",
   "execution_count": 4,
   "metadata": {},
   "outputs": [
    {
     "name": "stdout",
     "output_type": "stream",
     "text": [
      "{'ids': [['0da35d40-f4ce-44b9-aad7-9983d5a831f0', '37a81592-ec25-444f-a15e-9e54394a1f67'], ['cd024be2-8c0e-48c5-8ee1-70fe36f4b57c', '049a247f-cbed-4aa8-af54-fe784ea99458']], 'distances': [[0.9931836128234863, 1.1738262176513672], [1.250762939453125, 1.2595136165618896]], 'metadatas': [[{'_node_content': '{\"id_\": \"0da35d40-f4ce-44b9-aad7-9983d5a831f0\", \"embedding\": null, \"metadata\": {\"file_path\": \"/Users/ngocp/Documents/projects/tu-vi-bot/data/cac-buoc-luan-doan-la-so-tu-vi.md\", \"file_name\": \"cac-buoc-luan-doan-la-so-tu-vi.md\", \"file_size\": 56028, \"creation_date\": \"2024-10-03\", \"last_modified_date\": \"2024-10-03\"}, \"excluded_embed_metadata_keys\": [\"file_name\", \"file_type\", \"file_size\", \"creation_date\", \"last_modified_date\", \"last_accessed_date\"], \"excluded_llm_metadata_keys\": [\"file_name\", \"file_type\", \"file_size\", \"creation_date\", \"last_modified_date\", \"last_accessed_date\"], \"relationships\": {\"1\": {\"node_id\": \"47688c6d-35f6-4c87-9fdf-472a65f1147d\", \"node_type\": \"4\", \"metadata\": {\"file_path\": \"/Users/ngocp/Documents/projects/tu-vi-bot/data/cac-buoc-luan-doan-la-so-tu-vi.md\", \"file_name\": \"cac-buoc-luan-doan-la-so-tu-vi.md\", \"file_size\": 56028, \"creation_date\": \"2024-10-03\", \"last_modified_date\": \"2024-10-03\"}, \"hash\": \"60670dfa7ee111817432c5154065bb054caa136f5ab91e8c874e89822ed4a145\", \"class_name\": \"RelatedNodeInfo\"}, \"2\": {\"node_id\": \"8fd8cd05-b739-49a7-9c90-488967ec7c1b\", \"node_type\": \"1\", \"metadata\": {\"file_path\": \"/Users/ngocp/Documents/projects/tu-vi-bot/data/cac-buoc-luan-doan-la-so-tu-vi.md\", \"file_name\": \"cac-buoc-luan-doan-la-so-tu-vi.md\", \"file_size\": 56028, \"creation_date\": \"2024-10-03\", \"last_modified_date\": \"2024-10-03\"}, \"hash\": \"eb5eec58695d32885cce1c33051271e3c7a4a6bcfc733b73be14deb38559ce3d\", \"class_name\": \"RelatedNodeInfo\"}, \"3\": {\"node_id\": \"4637915d-04eb-4459-9b8c-5d5cf920a143\", \"node_type\": \"1\", \"metadata\": {}, \"hash\": \"e193000cdca141e033331e18a8d3de43eda11ef3531b9d8b9ec14ac59199674d\", \"class_name\": \"RelatedNodeInfo\"}}, \"text\": \"\", \"mimetype\": \"text/plain\", \"start_char_idx\": 23410, \"end_char_idx\": 23451, \"text_template\": \"{metadata_str}\\\\n\\\\n{content}\", \"metadata_template\": \"{key}: {value}\", \"metadata_seperator\": \"\\\\n\", \"class_name\": \"TextNode\"}', '_node_type': 'TextNode', 'creation_date': '2024-10-03', 'doc_id': '47688c6d-35f6-4c87-9fdf-472a65f1147d', 'document_id': '47688c6d-35f6-4c87-9fdf-472a65f1147d', 'file_name': 'cac-buoc-luan-doan-la-so-tu-vi.md', 'file_path': '/Users/ngocp/Documents/projects/tu-vi-bot/data/cac-buoc-luan-doan-la-so-tu-vi.md', 'file_size': 56028, 'last_modified_date': '2024-10-03', 'ref_doc_id': '47688c6d-35f6-4c87-9fdf-472a65f1147d'}, {'_node_content': '{\"id_\": \"37a81592-ec25-444f-a15e-9e54394a1f67\", \"embedding\": null, \"metadata\": {\"file_path\": \"/Users/ngocp/Documents/projects/tu-vi-bot/data/cung-menh.txt\", \"file_name\": \"cung-menh.txt\", \"file_type\": \"text/plain\", \"file_size\": 406165, \"creation_date\": \"2024-10-03\", \"last_modified_date\": \"2024-10-03\"}, \"excluded_embed_metadata_keys\": [\"file_name\", \"file_type\", \"file_size\", \"creation_date\", \"last_modified_date\", \"last_accessed_date\"], \"excluded_llm_metadata_keys\": [\"file_name\", \"file_type\", \"file_size\", \"creation_date\", \"last_modified_date\", \"last_accessed_date\"], \"relationships\": {\"1\": {\"node_id\": \"929d19e7-319c-4c3d-a32b-1c61f493daf2\", \"node_type\": \"4\", \"metadata\": {\"file_path\": \"/Users/ngocp/Documents/projects/tu-vi-bot/data/cung-menh.txt\", \"file_name\": \"cung-menh.txt\", \"file_type\": \"text/plain\", \"file_size\": 406165, \"creation_date\": \"2024-10-03\", \"last_modified_date\": \"2024-10-03\"}, \"hash\": \"555906a790a24df78efaf6583713c345dc0a344230f6ffef9fdbc938d1942d71\", \"class_name\": \"RelatedNodeInfo\"}, \"2\": {\"node_id\": \"134602a1-d9ae-4637-b736-4f8a23945f05\", \"node_type\": \"1\", \"metadata\": {\"file_path\": \"/Users/ngocp/Documents/projects/tu-vi-bot/data/cung-menh.txt\", \"file_name\": \"cung-menh.txt\", \"file_type\": \"text/plain\", \"file_size\": 406165, \"creation_date\": \"2024-10-03\", \"last_modified_date\": \"2024-10-03\"}, \"hash\": \"cf9bffdd6623a1c9742c4bff0cb926fe7ebf8d34535a3567c1fade03d95440b6\", \"class_name\": \"RelatedNodeInfo\"}, \"3\": {\"node_id\": \"887f4d84-9817-4ed9-bde6-e87240ac7587\", \"node_type\": \"1\", \"metadata\": {}, \"hash\": \"191cb6e84645bc8a253b690d92608ceb209b330b826dc7561647cb6b05c216aa\", \"class_name\": \"RelatedNodeInfo\"}}, \"text\": \"\", \"mimetype\": \"text/plain\", \"start_char_idx\": null, \"end_char_idx\": null, \"text_template\": \"{metadata_str}\\\\n\\\\n{content}\", \"metadata_template\": \"{key}: {value}\", \"metadata_seperator\": \"\\\\n\", \"class_name\": \"TextNode\"}', '_node_type': 'TextNode', 'creation_date': '2024-10-03', 'doc_id': '929d19e7-319c-4c3d-a32b-1c61f493daf2', 'document_id': '929d19e7-319c-4c3d-a32b-1c61f493daf2', 'file_name': 'cung-menh.txt', 'file_path': '/Users/ngocp/Documents/projects/tu-vi-bot/data/cung-menh.txt', 'file_size': 406165, 'file_type': 'text/plain', 'last_modified_date': '2024-10-03', 'ref_doc_id': '929d19e7-319c-4c3d-a32b-1c61f493daf2'}], [{'_node_content': '{\"id_\": \"cd024be2-8c0e-48c5-8ee1-70fe36f4b57c\", \"embedding\": null, \"metadata\": {\"file_path\": \"/Users/ngocp/Documents/projects/tu-vi-bot/data/cung-menh.txt\", \"file_name\": \"cung-menh.txt\", \"file_type\": \"text/plain\", \"file_size\": 406165, \"creation_date\": \"2024-10-03\", \"last_modified_date\": \"2024-10-03\"}, \"excluded_embed_metadata_keys\": [\"file_name\", \"file_type\", \"file_size\", \"creation_date\", \"last_modified_date\", \"last_accessed_date\"], \"excluded_llm_metadata_keys\": [\"file_name\", \"file_type\", \"file_size\", \"creation_date\", \"last_modified_date\", \"last_accessed_date\"], \"relationships\": {\"1\": {\"node_id\": \"929d19e7-319c-4c3d-a32b-1c61f493daf2\", \"node_type\": \"4\", \"metadata\": {\"file_path\": \"/Users/ngocp/Documents/projects/tu-vi-bot/data/cung-menh.txt\", \"file_name\": \"cung-menh.txt\", \"file_type\": \"text/plain\", \"file_size\": 406165, \"creation_date\": \"2024-10-03\", \"last_modified_date\": \"2024-10-03\"}, \"hash\": \"555906a790a24df78efaf6583713c345dc0a344230f6ffef9fdbc938d1942d71\", \"class_name\": \"RelatedNodeInfo\"}, \"2\": {\"node_id\": \"7d3df0e8-6dee-49c0-b74a-87cc02b5bf5b\", \"node_type\": \"1\", \"metadata\": {\"file_path\": \"/Users/ngocp/Documents/projects/tu-vi-bot/data/cung-menh.txt\", \"file_name\": \"cung-menh.txt\", \"file_type\": \"text/plain\", \"file_size\": 406165, \"creation_date\": \"2024-10-03\", \"last_modified_date\": \"2024-10-03\"}, \"hash\": \"0b55f23621e8f2e19ae4d53bbbfb4fc1e30c09c0b56116e76ec1ec0f4f220314\", \"class_name\": \"RelatedNodeInfo\"}, \"3\": {\"node_id\": \"4c6400b6-fabc-4ee2-97ac-e7bd034ab9fc\", \"node_type\": \"1\", \"metadata\": {}, \"hash\": \"188b487d8e59d8e0a4c5df03d50cf2d48f87bcea0087f26d5a0b636e0a77720d\", \"class_name\": \"RelatedNodeInfo\"}}, \"text\": \"\", \"mimetype\": \"text/plain\", \"start_char_idx\": null, \"end_char_idx\": null, \"text_template\": \"{metadata_str}\\\\n\\\\n{content}\", \"metadata_template\": \"{key}: {value}\", \"metadata_seperator\": \"\\\\n\", \"class_name\": \"TextNode\"}', '_node_type': 'TextNode', 'creation_date': '2024-10-03', 'doc_id': '929d19e7-319c-4c3d-a32b-1c61f493daf2', 'document_id': '929d19e7-319c-4c3d-a32b-1c61f493daf2', 'file_name': 'cung-menh.txt', 'file_path': '/Users/ngocp/Documents/projects/tu-vi-bot/data/cung-menh.txt', 'file_size': 406165, 'file_type': 'text/plain', 'last_modified_date': '2024-10-03', 'ref_doc_id': '929d19e7-319c-4c3d-a32b-1c61f493daf2'}, {'_node_content': '{\"id_\": \"049a247f-cbed-4aa8-af54-fe784ea99458\", \"embedding\": null, \"metadata\": {\"file_path\": \"/Users/ngocp/Documents/projects/tu-vi-bot/data/cung-menh.txt\", \"file_name\": \"cung-menh.txt\", \"file_type\": \"text/plain\", \"file_size\": 406165, \"creation_date\": \"2024-10-03\", \"last_modified_date\": \"2024-10-03\"}, \"excluded_embed_metadata_keys\": [\"file_name\", \"file_type\", \"file_size\", \"creation_date\", \"last_modified_date\", \"last_accessed_date\"], \"excluded_llm_metadata_keys\": [\"file_name\", \"file_type\", \"file_size\", \"creation_date\", \"last_modified_date\", \"last_accessed_date\"], \"relationships\": {\"1\": {\"node_id\": \"929d19e7-319c-4c3d-a32b-1c61f493daf2\", \"node_type\": \"4\", \"metadata\": {\"file_path\": \"/Users/ngocp/Documents/projects/tu-vi-bot/data/cung-menh.txt\", \"file_name\": \"cung-menh.txt\", \"file_type\": \"text/plain\", \"file_size\": 406165, \"creation_date\": \"2024-10-03\", \"last_modified_date\": \"2024-10-03\"}, \"hash\": \"555906a790a24df78efaf6583713c345dc0a344230f6ffef9fdbc938d1942d71\", \"class_name\": \"RelatedNodeInfo\"}, \"2\": {\"node_id\": \"98471e71-a540-4d7b-9857-05a91487e5fb\", \"node_type\": \"1\", \"metadata\": {\"file_path\": \"/Users/ngocp/Documents/projects/tu-vi-bot/data/cung-menh.txt\", \"file_name\": \"cung-menh.txt\", \"file_type\": \"text/plain\", \"file_size\": 406165, \"creation_date\": \"2024-10-03\", \"last_modified_date\": \"2024-10-03\"}, \"hash\": \"cfcafb31a41a893950b8afc07518ed091042dcb59673e3719a4a6eac6627fd8f\", \"class_name\": \"RelatedNodeInfo\"}, \"3\": {\"node_id\": \"534988af-6655-4d07-a4ca-f9174d914b2a\", \"node_type\": \"1\", \"metadata\": {}, \"hash\": \"85c97383ec51b88a2ade4a2becfcf23a7b695ea7f82974873f9f6eafb0f9efd7\", \"class_name\": \"RelatedNodeInfo\"}}, \"text\": \"\", \"mimetype\": \"text/plain\", \"start_char_idx\": null, \"end_char_idx\": null, \"text_template\": \"{metadata_str}\\\\n\\\\n{content}\", \"metadata_template\": \"{key}: {value}\", \"metadata_seperator\": \"\\\\n\", \"class_name\": \"TextNode\"}', '_node_type': 'TextNode', 'creation_date': '2024-10-03', 'doc_id': '929d19e7-319c-4c3d-a32b-1c61f493daf2', 'document_id': '929d19e7-319c-4c3d-a32b-1c61f493daf2', 'file_name': 'cung-menh.txt', 'file_path': '/Users/ngocp/Documents/projects/tu-vi-bot/data/cung-menh.txt', 'file_size': 406165, 'file_type': 'text/plain', 'last_modified_date': '2024-10-03', 'ref_doc_id': '929d19e7-319c-4c3d-a32b-1c61f493daf2'}]], 'embeddings': None, 'documents': [['Ảnh hưởng nhiều đến công danh, sự nghiệp.', '(Xin xem thêm mục liên quan trong chương 6). Trung Châu tử vi đẩu số - Tứ Hóa Phái - Nguyễn Anh Vũ dịch\\nCung Phu thê tự Hóa quyền\\nNgười phối ngẫu có cá tính mạnh, tính bướng bỉnh, có năng lực, có tài năng, có thể giúp mệnh tạo sáng lập cơ nghiệp, thích can dự vào sự nghiệp của mệnh tạo. Hôn nhân của mệnh tạo là kiểu tiếng sét ái tình, mới gặp đã yêu; cũng có thể vì người nhà ép buộc hoặc lỡ có con mà phải kết hôn; vợ chồng không nhường nhịn nhau, dễ xảy ra tranh chấp, cãi vã.'], ['Xem người khác không ra gì\\n3. Vẻ bề ngoài khó gây thiện cảm, hành vi quái gở\\n4. Không hòa hợp với người xung quanh\\n5. Hay sầu não\\n6. Tự tư, keo kiệt, sống chỉ biết có mình\\n7. Thiếu lòng bác ái, không biết chia sẻ, bố thí\\n8. Cô độc và nghèo khó, thật bất hạnh thay là trong xã hội hiện nay những người cô độc ngày càng chiếm nhiều. Đăng Hạ Thuật - Phan Tử Ngư\\nCung Phu thê an tại Thìn có các sao Thiên cơ,Thiên lương\\nThất tình trước khi kết hôn, hoặc người yêu không trở thành người quyến thuộc; sau khi kết hôn sum họp ít mà xa nhau thì nhiều\\n\\nNghiên cứu tinh mệnh học - Nguyễn Anh Vũ biên soạn\\nCung Phu thê an tại Thìn có các sao Thiên cơ,Thiên lương tọa thủ và các sao Hóa kỵ hội hợp\\nChủ về li hôn, hoặc tuổi trẻ đã vợ hoặc chồng, hoặc người phối ngẫu bệnh hoạn triền miên thương tật tàn phế\\n\\nNghiên cứu tinh mệnh học - Nguyễn Anh Vũ biên soạn\\nCung Phu thê an tại Thìn có các sao Văn khúc,Văn xương hội hợp\\nChủ về người phối ngẫu nặng tình với mình, tơ lòng quấn quýt, song dễ sinh lòng đố kị. Nếu chỉ thấy một trong hai sao Văn Xương, Văn Khúc, thì có thể chủ về có ngoại tình hoặc song hôn, hay có người thứ ba xen vào. Nghiên cứu tinh mệnh học - Nguyễn Anh Vũ biên soạn\\nCung Phu thê an tại Thìn có sao Đà la\\nĐối với mệnh tạo, hôn nhân là một thứ trăn trở và phiến lụy. Mẫu người này thường than thở và cảm khái về hôn nhân. Trung Châu tử vi đẩu số - Tứ Hóa Phái - Nguyễn Anh Vũ dịch\\nCung Phu thê an tại Thìn có sao Đà la\\nNếu nói ra có thể sẽ có người phản đối, nhưng cá tính của chồng bạn đúng là giống một loại tính cách của phụ nữ, tự khép kín, hay hoài nghi, có vấn đề cũng không lên tiếng, tự than oán tự dằn vặt lại ưa nhớ thù xưa, có cái nhìn thiển cận, hẹp hòi ... (chúng tôi vừa mới hình dung nhân vật Lâm Đại Ngọc trong tác phẩm Hồng Lâu Mộng của Tào Tuyết Cần), nghe có vẻ rất đáng sợ phải không bạn? Nhưng thực ra họ là mẫu tình nhân điển hình của rất nhiều nữ sinh; vì họ rất dịu dàng, lãng mạng, chu đáo, tình cảm êm ái như nước. Nhưng nói cho cùng thì chồng và tình nhân là hai chuyện khác nhau, một tình nhân cực kì lãng mạn chưa chắc là một người chồng hoàn mĩ. Đối với rất nhiều phụ nữ thì được \"ăn kẹo ngọt\" còn quan trọng hơn là được \"ăn bánh mì trét bơ\"; còn những phụ nữ thành đạt ngày nay, trông thấy các ông chủ lớn hay những đàn ông nỗ lực bình thường, họ đều chê; trong nhà có vị hoàng tử này thì lãng mạn gì chứ? Huống hồ đa sầu đa cảm chỉ là cá tính của \"người ấy\", tuy không có nghĩa là họ sống dựa vào đàn bà, có điều, tâm hồn của vị hoàng tử này có thể rất mẫn cảm, mà còn rất thù dai. Vì vậy lúc bạn nói chuyện với \"người ấy\" cần phải thận trọng, đừng làm họ bị tồn thương. Trung Châu tử vi đẩu số - Tứ Hóa Phái - Nguyễn Anh Vũ dịch\\nCung Phu thê an tại Thìn có sao Đà la\\nHôn nhân thường không được như ý, có thể gặp nhiều trở ngại\\n\\nĐăng Hạ Thuật - Phan Tử Ngư\\nCung Phu thê an tại Thìn có sao Đà la\\nChủ về gặp người không hiền thục, hoặc hôn nhân bị trở ngại, kết hôn chậm\\n\\nNghiên cứu tinh mệnh học - Nguyễn Anh Vũ biên soạn\\nCung Phu thê an tại Thìn có sao Thai\\n1. Kết hôn lần thứ nhất sẽ có khắc\\n2. Kết hôn lần thứ hai có thể sống đến bách niên giai lão. Đăng Hạ Thuật - Phan Tử Ngư\\nCung Phu thê an tại Thìn có sao Thiên cơ\\nThiên Cơ là một sao rất có duyên với tôn giáo; thông thường, người có Thiên Cơ tọa cung phu thê cũng có khuynh hướng kết hôn muộn. Bỏ qua chuyện có duyên với tôn giáo khoan nói tới, loại tổ hợp này thường thường rất kén chọn \"một nửa kia\", hay do dự, đối với tình cảm đã nắm không được mà buông cũng không xong, không thích hợp mà bỏ thì không đành, thích hợp thì lại không quyết định dứt khoát, cuối cùng không còn cách nào khác, phải để cho thời gian chọn một cách ngẫu nhiên, đương nhiên cũng rất khó kết hôn sớm. Trung Châu tử vi đẩu số - Tứ Hóa Phái - Nguyễn Anh Vũ dịch\\nCung Phu thê an tại Thìn có sao Thiên cơ\\nChủ về vợ chồng tâm đầu ý hợp, đặc biệt ở phương diện tài lộc có được sự giúp đỡ, có thể tìm kiếm được sự tiến thân trong sự nghiệp\\n\\nĐăng Hạ Thuật - Phan Tử Ngư\\nCung Phu thê an tại Thìn có sao Thiên cơ\\nSách Tử vi Đầu Số toàn thư nói: \"Thiên Cơ, vợ nên là người trẻ tuổi cương cường, lấy chồng nên là người lớn tuổi\" (Thiên Cơ, nghi niên thiếu cương cường chi thê, khả phối phu nghi trường); thông thường, cung phu thê có Thiên Cơ, bất luận nam mệnh hay nữ mệnh đều sẽ chênh lệch tuổi\\n\\nTrung Châu tử vi đẩu số - Tứ Hóa Phái - Nguyễn Anh Vũ dịch\\nCung Phu thê an tại Thìn có sao Thiên cơ\\nThiên Cơ hoặc \"Thiên Cơ, Thái Âm\", \"Thiên Cơ, Cự Môn\", \"Thiên Cơ, Thiên Lương\" ở cung phu thê, là biểu thị người phối ngẫu đa tài, phần nhiều họ rất tinh ý, hiền hòa, bình dị; là người tốt, nhưng cũng có lúc làm cho người ta phát điên.', 'Cung huynh đệ thấy Địa Không, Địa Kiếp, lúc nam nữ giao du, sẽ hao tổn tinh thần, sức lực, thời gian ... nhiều hơn người bình thường. Vì con đường đạt tới hạnh phúc có thể rất gập gềnh khó đi, cho nên thường thấy có người trông ngóng tình yêu. Phần nhiều người cung huynh đệ có Địa Không, Địa Kiếp là thuộc mẫu người si tình khờ dại! Trung Châu tử vi đẩu số - Tứ Hóa Phái - Nguyễn Anh Vũ dịch\\nCung Huynh đệ an tại Tị có các sao Địa không,Địa kiếp hội hợp\\nHoặc chủ về người thân bị hình khắc tai tật, hoặc chủ về thiếu duyên phận, hay vì bị liên lụy phá tài\\n\\nNghiên cứu tinh mệnh học - Nguyễn Anh Vũ biên soạn\\nCung Huynh đệ an tại Tị có các sao Thất sát,Tử vi\\nQuan hệ bất hòa, quyết liệt. Thấy sát diệu lại càng như vậy. Có ba anh chị em. Nghiên cứu tinh mệnh học - Nguyễn Anh Vũ biên soạn\\nCung Huynh đệ an tại Tị có sao Lộc tồn\\nVợ chồng có kết cấu này giống như bị xích vào nhau, yêu nhau càng đậm thì cãi nhau càng kịch liệt, thậm chí còn có thể động tay động chân; nhưng vì Lộc Tồn là sao lợi hại, nên sẽ khiến vợ chồng lại trò chuyện với nhau như trước. Cho nên câu nói \"cãi nhau ở đầu giường, làm hòa ở cuối giường\" là rất phù hợp dùng trong trường hợp Lộc Tồn ở cung huynh đệ. Dù tình trạng của hai người đến mức phải li hôn, cũng sẽ vì tác dụng của Lộc Tồn mà có hiện tượng quái dị là li hôn mà lại ở chung. Tuy Lộc Tồn không phải là linh đơn diệu dược, nhưng nếu có hung tinh đồng cung với Lộc Tồn, là hai người bị trói vào nhau, dù một người chạy đến chân trời góc biển, vẫn không thoát được bàn tay của Như Lai. Trung Châu tử vi đẩu số - Tứ Hóa Phái - Nguyễn Anh Vũ dịch\\nCung Huynh đệ an tại Tị có sao Lộc tồn\\nDù cãi vã nhau rất dữ đội, thậm chí còn động tay động, nhưng sau đó cũng sẽ ân ái, hạnh phúc như trước. Người có kết cấu mệnh bàn này là điển hình của mối tình oan gia.']], 'uris': None, 'data': None, 'included': ['metadatas', 'documents', 'distances']}\n"
     ]
    }
   ],
   "source": [
    "query_texts = [\"sự nghiệp\", \"tình yêu\"]\n",
    "\n",
    "# Perform the query with the required parameter\n",
    "results = collection_tu_vi.query(\n",
    "    query_texts=query_texts,\n",
    "    n_results=2\n",
    ")\n",
    "\n",
    "print(results)"
   ]
  },
  {
   "cell_type": "code",
   "execution_count": 5,
   "metadata": {},
   "outputs": [
    {
     "name": "stdout",
     "output_type": "stream",
     "text": [
      "len 1536\n",
      "batch [ 0.01365834  0.0418442   0.00849508 ... -0.02307432  0.03228336\n",
      "  0.0106473 ]\n"
     ]
    }
   ],
   "source": [
    "\n",
    "existing_count = collection_tu_vi.count()\n",
    "batch_size = 2\n",
    "for i in range(0, existing_count, batch_size):\n",
    "    batch = collection_tu_vi.get(\n",
    "        include=[\"metadatas\", \"documents\", \"embeddings\"],\n",
    "        limit=batch_size,\n",
    "        offset=i)\n",
    "    print('len', len(batch['embeddings'][0]))\n",
    "    print('batch', batch['embeddings'][0])\n",
    "    break\n"
   ]
  }
 ],
 "metadata": {
  "kernelspec": {
   "display_name": ".venv",
   "language": "python",
   "name": "python3"
  },
  "language_info": {
   "codemirror_mode": {
    "name": "ipython",
    "version": 3
   },
   "file_extension": ".py",
   "mimetype": "text/x-python",
   "name": "python",
   "nbconvert_exporter": "python",
   "pygments_lexer": "ipython3",
   "version": "3.10.3"
  }
 },
 "nbformat": 4,
 "nbformat_minor": 2
}
